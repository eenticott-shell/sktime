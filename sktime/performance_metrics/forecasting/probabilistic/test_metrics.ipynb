{
 "cells": [
  {
   "cell_type": "code",
   "execution_count": 1,
   "metadata": {},
   "outputs": [],
   "source": [
    "import warnings\n",
    "warnings.simplefilter(action='ignore', category=FutureWarning)"
   ]
  },
  {
   "cell_type": "code",
   "execution_count": 2,
   "metadata": {},
   "outputs": [],
   "source": [
    "from sktime.performance_metrics.forecasting.probabilistic import PinballLoss\n",
    "from sktime.forecasting.theta import ThetaForecaster\n",
    "from sktime.forecasting.model_selection import ForecastingGridSearchCV"
   ]
  },
  {
   "cell_type": "code",
   "execution_count": 3,
   "metadata": {},
   "outputs": [],
   "source": [
    "import numpy as np\n",
    "from sktime.datasets import load_airline\n",
    "from sktime.datasets import load_airline\n",
    "from sktime.forecasting.model_selection import temporal_train_test_split\n",
    "from sktime.forecasting.tests._config import TEST_OOS_FHS\n",
    "from sktime.forecasting.theta import ThetaForecaster\n",
    "from sktime.utils.validation.forecasting import check_fh\n",
    "y = np.log1p(load_airline())\n",
    "y_train, y_test = temporal_train_test_split(y)\n",
    "fh = np.arange(len(y_test)) + 1\n",
    "\n",
    "f = ThetaForecaster(sp=12)\n",
    "f.fit(y_train)\n",
    "y_pred = f.predict(fh=fh)\n",
    "\n",
    "np.testing.assert_allclose(y_pred, y_test, rtol=0.05)"
   ]
  },
  {
   "cell_type": "code",
   "execution_count": 4,
   "metadata": {},
   "outputs": [
    {
     "data": {
      "text/plain": [
       "PinballLoss()"
      ]
     },
     "execution_count": 4,
     "metadata": {},
     "output_type": "execute_result"
    }
   ],
   "source": [
    "loss = PinballLoss()\n",
    "loss"
   ]
  },
  {
   "cell_type": "code",
   "execution_count": 5,
   "metadata": {},
   "outputs": [],
   "source": [
    "q_dat = f.predict_quantiles(fh, alpha = [0.9])\n",
    "i_dat = f.predict_interval(fh, coverage = [0.1, 0.2])"
   ]
  },
  {
   "cell_type": "code",
   "execution_count": 6,
   "metadata": {},
   "outputs": [
    {
     "data": {
      "text/plain": [
       "2"
      ]
     },
     "execution_count": 6,
     "metadata": {},
     "output_type": "execute_result"
    }
   ],
   "source": [
    "np.average(q_dat.to_numpy(), axis = 0).ndim\n",
    "q_dat.ndim"
   ]
  },
  {
   "cell_type": "code",
   "execution_count": 7,
   "metadata": {},
   "outputs": [
    {
     "data": {
      "text/plain": [
       "'pred_quantiles'"
      ]
     },
     "execution_count": 7,
     "metadata": {},
     "output_type": "execute_result"
    }
   ],
   "source": [
    "loss.get_tag(\"scitype:y_pred\")"
   ]
  },
  {
   "cell_type": "code",
   "execution_count": 8,
   "metadata": {},
   "outputs": [],
   "source": [
    "from sktime.forecasting.model_evaluation import evaluate\n",
    "from sktime.forecasting.model_selection import ExpandingWindowSplitter\n",
    "from sktime.forecasting.naive import NaiveForecaster\n",
    "\n",
    "cv = ExpandingWindowSplitter(\n",
    "    initial_window=24,\n",
    "    step_length=12,\n",
    "    fh=[1, 2, 3, 4, 5, 6, 7, 8, 9, 10, 11, 12])\n",
    "\n",
    "param_grid = {\"sp\": [6, 12]}\n"
   ]
  },
  {
   "cell_type": "code",
   "execution_count": 9,
   "metadata": {},
   "outputs": [],
   "source": [
    "gcv = ForecastingGridSearchCV(f, cv, param_grid, scoring = loss)"
   ]
  },
  {
   "cell_type": "code",
   "execution_count": 10,
   "metadata": {},
   "outputs": [
    {
     "name": "stdout",
     "output_type": "stream",
     "text": [
      "        Quantiles          \n",
      "             0.05      0.95\n",
      "1960-01  6.017217  6.134790\n",
      "1960-02  5.947262  6.091259\n",
      "1960-03  6.107319  6.273592\n",
      "1960-04  6.065694  6.251593\n",
      "1960-05  6.110213  6.313855\n",
      "1960-06  6.212119  6.432078\n",
      "1960-07  6.365369  6.600515\n",
      "1960-08  6.386900  6.636310\n",
      "1960-09  6.144129  6.407030\n",
      "1960-10  6.009067  6.284800\n",
      "1960-11  5.843467  6.131460\n",
      "1960-12  5.919690  6.219443\n",
      "       0.05      0.95\n",
      "0  0.008705  0.007918\n"
     ]
    },
    {
     "data": {
      "text/html": [
       "<div>\n",
       "<style scoped>\n",
       "    .dataframe tbody tr th:only-of-type {\n",
       "        vertical-align: middle;\n",
       "    }\n",
       "\n",
       "    .dataframe tbody tr th {\n",
       "        vertical-align: top;\n",
       "    }\n",
       "\n",
       "    .dataframe thead th {\n",
       "        text-align: right;\n",
       "    }\n",
       "</style>\n",
       "<table border=\"1\" class=\"dataframe\">\n",
       "  <thead>\n",
       "    <tr style=\"text-align: right;\">\n",
       "      <th></th>\n",
       "      <th>test_PinballLoss</th>\n",
       "      <th>fit_time</th>\n",
       "      <th>pred_time</th>\n",
       "      <th>len_train_window</th>\n",
       "      <th>cutoff</th>\n",
       "    </tr>\n",
       "  </thead>\n",
       "  <tbody>\n",
       "    <tr>\n",
       "      <th>0</th>\n",
       "      <td>0.05      0.95\n",
       "0  0.008705  0.007918</td>\n",
       "      <td>0.009234</td>\n",
       "      <td>0.015016</td>\n",
       "      <td>24</td>\n",
       "      <td>1959-12</td>\n",
       "    </tr>\n",
       "  </tbody>\n",
       "</table>\n",
       "</div>"
      ],
      "text/plain": [
       "                              test_PinballLoss  fit_time  pred_time  \\\n",
       "0         0.05      0.95\n",
       "0  0.008705  0.007918  0.009234   0.015016   \n",
       "\n",
       "   len_train_window   cutoff  \n",
       "0                24  1959-12  "
      ]
     },
     "execution_count": 10,
     "metadata": {},
     "output_type": "execute_result"
    }
   ],
   "source": [
    "evaluate(f, cv, y_test, scoring = loss)"
   ]
  },
  {
   "cell_type": "code",
   "execution_count": 11,
   "metadata": {},
   "outputs": [
    {
     "name": "stdout",
     "output_type": "stream",
     "text": [
      "        Quantiles          \n",
      "             0.05      0.95\n",
      "1960-01  5.904808  6.330713\n",
      "1960-02  5.856793  6.378418\n",
      "1960-03  5.746362  6.348683\n",
      "1960-04  5.637914  6.311330\n",
      "1960-05  5.566888  6.304578\n",
      "1960-06  5.648237  6.445033\n",
      "1960-07  5.726956  6.578767\n",
      "1960-08  5.700931  6.604413\n",
      "1960-09  5.605978  6.558331\n",
      "1960-10  5.509385  6.508222\n",
      "1960-11  5.448034  6.491285\n",
      "1960-12  5.538238  6.624088\n",
      "       0.05      0.95\n",
      "0  0.024941  0.015031\n",
      "        Quantiles          \n",
      "             0.05      0.95\n",
      "1960-01  6.017217  6.134790\n",
      "1960-02  5.947262  6.091259\n",
      "1960-03  6.107319  6.273592\n",
      "1960-04  6.065694  6.251593\n",
      "1960-05  6.110213  6.313855\n",
      "1960-06  6.212119  6.432078\n",
      "1960-07  6.365369  6.600515\n",
      "1960-08  6.386900  6.636310\n",
      "1960-09  6.144129  6.407030\n",
      "1960-10  6.009067  6.284800\n",
      "1960-11  5.843467  6.131460\n",
      "1960-12  5.919690  6.219443\n",
      "       0.05      0.95\n",
      "0  0.008705  0.007918\n"
     ]
    },
    {
     "ename": "KeyError",
     "evalue": "'mean_test_PinballLoss'",
     "output_type": "error",
     "traceback": [
      "\u001b[1;31m---------------------------------------------------------------------------\u001b[0m",
      "\u001b[1;31mKeyError\u001b[0m                                  Traceback (most recent call last)",
      "File \u001b[1;32m~\\Anaconda3\\envs\\sktime\\lib\\site-packages\\pandas\\core\\indexes\\base.py:3621\u001b[0m, in \u001b[0;36mIndex.get_loc\u001b[1;34m(self, key, method, tolerance)\u001b[0m\n\u001b[0;32m   <a href='file:///~/Anaconda3/envs/sktime/lib/site-packages/pandas/core/indexes/base.py?line=3619'>3620</a>\u001b[0m \u001b[39mtry\u001b[39;00m:\n\u001b[1;32m-> <a href='file:///~/Anaconda3/envs/sktime/lib/site-packages/pandas/core/indexes/base.py?line=3620'>3621</a>\u001b[0m     \u001b[39mreturn\u001b[39;00m \u001b[39mself\u001b[39;49m\u001b[39m.\u001b[39;49m_engine\u001b[39m.\u001b[39;49mget_loc(casted_key)\n\u001b[0;32m   <a href='file:///~/Anaconda3/envs/sktime/lib/site-packages/pandas/core/indexes/base.py?line=3621'>3622</a>\u001b[0m \u001b[39mexcept\u001b[39;00m \u001b[39mKeyError\u001b[39;00m \u001b[39mas\u001b[39;00m err:\n",
      "File \u001b[1;32m~\\Anaconda3\\envs\\sktime\\lib\\site-packages\\pandas\\_libs\\index.pyx:136\u001b[0m, in \u001b[0;36mpandas._libs.index.IndexEngine.get_loc\u001b[1;34m()\u001b[0m\n",
      "File \u001b[1;32m~\\Anaconda3\\envs\\sktime\\lib\\site-packages\\pandas\\_libs\\index.pyx:163\u001b[0m, in \u001b[0;36mpandas._libs.index.IndexEngine.get_loc\u001b[1;34m()\u001b[0m\n",
      "File \u001b[1;32mpandas\\_libs\\hashtable_class_helper.pxi:5198\u001b[0m, in \u001b[0;36mpandas._libs.hashtable.PyObjectHashTable.get_item\u001b[1;34m()\u001b[0m\n",
      "File \u001b[1;32mpandas\\_libs\\hashtable_class_helper.pxi:5206\u001b[0m, in \u001b[0;36mpandas._libs.hashtable.PyObjectHashTable.get_item\u001b[1;34m()\u001b[0m\n",
      "\u001b[1;31mKeyError\u001b[0m: 'mean_test_PinballLoss'",
      "\nThe above exception was the direct cause of the following exception:\n",
      "\u001b[1;31mKeyError\u001b[0m                                  Traceback (most recent call last)",
      "\u001b[1;32mc:\\Users\\e.enticott\\Repositories\\sktime\\sktime\\sktime\\performance_metrics\\forecasting\\probabilistic\\test_metrics.ipynb Cell 12'\u001b[0m in \u001b[0;36m<module>\u001b[1;34m\u001b[0m\n\u001b[1;32m----> <a href='vscode-notebook-cell:/c%3A/Users/e.enticott/Repositories/sktime/sktime/sktime/performance_metrics/forecasting/probabilistic/test_metrics.ipynb#ch0000059?line=0'>1</a>\u001b[0m gcv\u001b[39m.\u001b[39;49mfit(y_test)\n",
      "File \u001b[1;32mc:\\users\\e.enticott\\repositories\\sktime\\sktime\\sktime\\forecasting\\base\\_base.py:139\u001b[0m, in \u001b[0;36mBaseForecaster.fit\u001b[1;34m(self, y, X, fh)\u001b[0m\n\u001b[0;32m    <a href='file:///c%3A/users/e.enticott/repositories/sktime/sktime/sktime/forecasting/base/_base.py?line=133'>134</a>\u001b[0m \u001b[39mself\u001b[39m\u001b[39m.\u001b[39m_update_y_X(y_inner, X_inner)\n\u001b[0;32m    <a href='file:///c%3A/users/e.enticott/repositories/sktime/sktime/sktime/forecasting/base/_base.py?line=135'>136</a>\u001b[0m \u001b[39m# checks and conversions complete, pass to inner fit\u001b[39;00m\n\u001b[0;32m    <a href='file:///c%3A/users/e.enticott/repositories/sktime/sktime/sktime/forecasting/base/_base.py?line=136'>137</a>\u001b[0m \u001b[39m#####################################################\u001b[39;00m\n\u001b[1;32m--> <a href='file:///c%3A/users/e.enticott/repositories/sktime/sktime/sktime/forecasting/base/_base.py?line=138'>139</a>\u001b[0m \u001b[39mself\u001b[39;49m\u001b[39m.\u001b[39;49m_fit(y\u001b[39m=\u001b[39;49my_inner, X\u001b[39m=\u001b[39;49mX_inner, fh\u001b[39m=\u001b[39;49mfh)\n\u001b[0;32m    <a href='file:///c%3A/users/e.enticott/repositories/sktime/sktime/sktime/forecasting/base/_base.py?line=140'>141</a>\u001b[0m \u001b[39m# this should happen last\u001b[39;00m\n\u001b[0;32m    <a href='file:///c%3A/users/e.enticott/repositories/sktime/sktime/sktime/forecasting/base/_base.py?line=141'>142</a>\u001b[0m \u001b[39mself\u001b[39m\u001b[39m.\u001b[39m_is_fitted \u001b[39m=\u001b[39m \u001b[39mTrue\u001b[39;00m\n",
      "File \u001b[1;32mc:\\users\\e.enticott\\repositories\\sktime\\sktime\\sktime\\forecasting\\model_selection\\_tune.py:261\u001b[0m, in \u001b[0;36mBaseGridSearch._fit\u001b[1;34m(self, y, X, fh, **fit_params)\u001b[0m\n\u001b[0;32m    <a href='file:///c%3A/users/e.enticott/repositories/sktime/sktime/sktime/forecasting/model_selection/_tune.py?line=257'>258</a>\u001b[0m results \u001b[39m=\u001b[39m pd\u001b[39m.\u001b[39mDataFrame(results)\n\u001b[0;32m    <a href='file:///c%3A/users/e.enticott/repositories/sktime/sktime/sktime/forecasting/model_selection/_tune.py?line=259'>260</a>\u001b[0m \u001b[39m# Rank results, according to whether greater is better for the given scoring.\u001b[39;00m\n\u001b[1;32m--> <a href='file:///c%3A/users/e.enticott/repositories/sktime/sktime/sktime/forecasting/model_selection/_tune.py?line=260'>261</a>\u001b[0m results[\u001b[39mf\u001b[39m\u001b[39m\"\u001b[39m\u001b[39mrank_\u001b[39m\u001b[39m{\u001b[39;00mscoring_name\u001b[39m}\u001b[39;00m\u001b[39m\"\u001b[39m] \u001b[39m=\u001b[39m results\u001b[39m.\u001b[39;49mloc[:, \u001b[39mf\u001b[39;49m\u001b[39m\"\u001b[39;49m\u001b[39mmean_\u001b[39;49m\u001b[39m{\u001b[39;49;00mscoring_name\u001b[39m}\u001b[39;49;00m\u001b[39m\"\u001b[39;49m]\u001b[39m.\u001b[39mrank(\n\u001b[0;32m    <a href='file:///c%3A/users/e.enticott/repositories/sktime/sktime/sktime/forecasting/model_selection/_tune.py?line=261'>262</a>\u001b[0m     ascending\u001b[39m=\u001b[39m\u001b[39mnot\u001b[39;00m scoring\u001b[39m.\u001b[39mgreater_is_better\n\u001b[0;32m    <a href='file:///c%3A/users/e.enticott/repositories/sktime/sktime/sktime/forecasting/model_selection/_tune.py?line=262'>263</a>\u001b[0m )\n\u001b[0;32m    <a href='file:///c%3A/users/e.enticott/repositories/sktime/sktime/sktime/forecasting/model_selection/_tune.py?line=264'>265</a>\u001b[0m \u001b[39mself\u001b[39m\u001b[39m.\u001b[39mcv_results_ \u001b[39m=\u001b[39m results\n\u001b[0;32m    <a href='file:///c%3A/users/e.enticott/repositories/sktime/sktime/sktime/forecasting/model_selection/_tune.py?line=266'>267</a>\u001b[0m \u001b[39m# Select best parameters.\u001b[39;00m\n",
      "File \u001b[1;32m~\\Anaconda3\\envs\\sktime\\lib\\site-packages\\pandas\\core\\indexing.py:961\u001b[0m, in \u001b[0;36m_LocationIndexer.__getitem__\u001b[1;34m(self, key)\u001b[0m\n\u001b[0;32m    <a href='file:///~/Anaconda3/envs/sktime/lib/site-packages/pandas/core/indexing.py?line=958'>959</a>\u001b[0m     \u001b[39mif\u001b[39;00m \u001b[39mself\u001b[39m\u001b[39m.\u001b[39m_is_scalar_access(key):\n\u001b[0;32m    <a href='file:///~/Anaconda3/envs/sktime/lib/site-packages/pandas/core/indexing.py?line=959'>960</a>\u001b[0m         \u001b[39mreturn\u001b[39;00m \u001b[39mself\u001b[39m\u001b[39m.\u001b[39mobj\u001b[39m.\u001b[39m_get_value(\u001b[39m*\u001b[39mkey, takeable\u001b[39m=\u001b[39m\u001b[39mself\u001b[39m\u001b[39m.\u001b[39m_takeable)\n\u001b[1;32m--> <a href='file:///~/Anaconda3/envs/sktime/lib/site-packages/pandas/core/indexing.py?line=960'>961</a>\u001b[0m     \u001b[39mreturn\u001b[39;00m \u001b[39mself\u001b[39;49m\u001b[39m.\u001b[39;49m_getitem_tuple(key)\n\u001b[0;32m    <a href='file:///~/Anaconda3/envs/sktime/lib/site-packages/pandas/core/indexing.py?line=961'>962</a>\u001b[0m \u001b[39melse\u001b[39;00m:\n\u001b[0;32m    <a href='file:///~/Anaconda3/envs/sktime/lib/site-packages/pandas/core/indexing.py?line=962'>963</a>\u001b[0m     \u001b[39m# we by definition only have the 0th axis\u001b[39;00m\n\u001b[0;32m    <a href='file:///~/Anaconda3/envs/sktime/lib/site-packages/pandas/core/indexing.py?line=963'>964</a>\u001b[0m     axis \u001b[39m=\u001b[39m \u001b[39mself\u001b[39m\u001b[39m.\u001b[39maxis \u001b[39mor\u001b[39;00m \u001b[39m0\u001b[39m\n",
      "File \u001b[1;32m~\\Anaconda3\\envs\\sktime\\lib\\site-packages\\pandas\\core\\indexing.py:1140\u001b[0m, in \u001b[0;36m_LocIndexer._getitem_tuple\u001b[1;34m(self, tup)\u001b[0m\n\u001b[0;32m   <a href='file:///~/Anaconda3/envs/sktime/lib/site-packages/pandas/core/indexing.py?line=1137'>1138</a>\u001b[0m \u001b[39mwith\u001b[39;00m suppress(IndexingError):\n\u001b[0;32m   <a href='file:///~/Anaconda3/envs/sktime/lib/site-packages/pandas/core/indexing.py?line=1138'>1139</a>\u001b[0m     tup \u001b[39m=\u001b[39m \u001b[39mself\u001b[39m\u001b[39m.\u001b[39m_expand_ellipsis(tup)\n\u001b[1;32m-> <a href='file:///~/Anaconda3/envs/sktime/lib/site-packages/pandas/core/indexing.py?line=1139'>1140</a>\u001b[0m     \u001b[39mreturn\u001b[39;00m \u001b[39mself\u001b[39;49m\u001b[39m.\u001b[39;49m_getitem_lowerdim(tup)\n\u001b[0;32m   <a href='file:///~/Anaconda3/envs/sktime/lib/site-packages/pandas/core/indexing.py?line=1141'>1142</a>\u001b[0m \u001b[39m# no multi-index, so validate all of the indexers\u001b[39;00m\n\u001b[0;32m   <a href='file:///~/Anaconda3/envs/sktime/lib/site-packages/pandas/core/indexing.py?line=1142'>1143</a>\u001b[0m tup \u001b[39m=\u001b[39m \u001b[39mself\u001b[39m\u001b[39m.\u001b[39m_validate_tuple_indexer(tup)\n",
      "File \u001b[1;32m~\\Anaconda3\\envs\\sktime\\lib\\site-packages\\pandas\\core\\indexing.py:867\u001b[0m, in \u001b[0;36m_LocationIndexer._getitem_lowerdim\u001b[1;34m(self, tup)\u001b[0m\n\u001b[0;32m    <a href='file:///~/Anaconda3/envs/sktime/lib/site-packages/pandas/core/indexing.py?line=862'>863</a>\u001b[0m \u001b[39mfor\u001b[39;00m i, key \u001b[39min\u001b[39;00m \u001b[39menumerate\u001b[39m(tup):\n\u001b[0;32m    <a href='file:///~/Anaconda3/envs/sktime/lib/site-packages/pandas/core/indexing.py?line=863'>864</a>\u001b[0m     \u001b[39mif\u001b[39;00m is_label_like(key):\n\u001b[0;32m    <a href='file:///~/Anaconda3/envs/sktime/lib/site-packages/pandas/core/indexing.py?line=864'>865</a>\u001b[0m         \u001b[39m# We don't need to check for tuples here because those are\u001b[39;00m\n\u001b[0;32m    <a href='file:///~/Anaconda3/envs/sktime/lib/site-packages/pandas/core/indexing.py?line=865'>866</a>\u001b[0m         \u001b[39m#  caught by the _is_nested_tuple_indexer check above.\u001b[39;00m\n\u001b[1;32m--> <a href='file:///~/Anaconda3/envs/sktime/lib/site-packages/pandas/core/indexing.py?line=866'>867</a>\u001b[0m         section \u001b[39m=\u001b[39m \u001b[39mself\u001b[39;49m\u001b[39m.\u001b[39;49m_getitem_axis(key, axis\u001b[39m=\u001b[39;49mi)\n\u001b[0;32m    <a href='file:///~/Anaconda3/envs/sktime/lib/site-packages/pandas/core/indexing.py?line=868'>869</a>\u001b[0m         \u001b[39m# We should never have a scalar section here, because\u001b[39;00m\n\u001b[0;32m    <a href='file:///~/Anaconda3/envs/sktime/lib/site-packages/pandas/core/indexing.py?line=869'>870</a>\u001b[0m         \u001b[39m#  _getitem_lowerdim is only called after a check for\u001b[39;00m\n\u001b[0;32m    <a href='file:///~/Anaconda3/envs/sktime/lib/site-packages/pandas/core/indexing.py?line=870'>871</a>\u001b[0m         \u001b[39m#  is_scalar_access, which that would be.\u001b[39;00m\n\u001b[0;32m    <a href='file:///~/Anaconda3/envs/sktime/lib/site-packages/pandas/core/indexing.py?line=871'>872</a>\u001b[0m         \u001b[39mif\u001b[39;00m section\u001b[39m.\u001b[39mndim \u001b[39m==\u001b[39m \u001b[39mself\u001b[39m\u001b[39m.\u001b[39mndim:\n\u001b[0;32m    <a href='file:///~/Anaconda3/envs/sktime/lib/site-packages/pandas/core/indexing.py?line=872'>873</a>\u001b[0m             \u001b[39m# we're in the middle of slicing through a MultiIndex\u001b[39;00m\n\u001b[0;32m    <a href='file:///~/Anaconda3/envs/sktime/lib/site-packages/pandas/core/indexing.py?line=873'>874</a>\u001b[0m             \u001b[39m# revise the key wrt to `section` by inserting an _NS\u001b[39;00m\n",
      "File \u001b[1;32m~\\Anaconda3\\envs\\sktime\\lib\\site-packages\\pandas\\core\\indexing.py:1202\u001b[0m, in \u001b[0;36m_LocIndexer._getitem_axis\u001b[1;34m(self, key, axis)\u001b[0m\n\u001b[0;32m   <a href='file:///~/Anaconda3/envs/sktime/lib/site-packages/pandas/core/indexing.py?line=1199'>1200</a>\u001b[0m \u001b[39m# fall thru to straight lookup\u001b[39;00m\n\u001b[0;32m   <a href='file:///~/Anaconda3/envs/sktime/lib/site-packages/pandas/core/indexing.py?line=1200'>1201</a>\u001b[0m \u001b[39mself\u001b[39m\u001b[39m.\u001b[39m_validate_key(key, axis)\n\u001b[1;32m-> <a href='file:///~/Anaconda3/envs/sktime/lib/site-packages/pandas/core/indexing.py?line=1201'>1202</a>\u001b[0m \u001b[39mreturn\u001b[39;00m \u001b[39mself\u001b[39;49m\u001b[39m.\u001b[39;49m_get_label(key, axis\u001b[39m=\u001b[39;49maxis)\n",
      "File \u001b[1;32m~\\Anaconda3\\envs\\sktime\\lib\\site-packages\\pandas\\core\\indexing.py:1153\u001b[0m, in \u001b[0;36m_LocIndexer._get_label\u001b[1;34m(self, label, axis)\u001b[0m\n\u001b[0;32m   <a href='file:///~/Anaconda3/envs/sktime/lib/site-packages/pandas/core/indexing.py?line=1150'>1151</a>\u001b[0m \u001b[39mdef\u001b[39;00m \u001b[39m_get_label\u001b[39m(\u001b[39mself\u001b[39m, label, axis: \u001b[39mint\u001b[39m):\n\u001b[0;32m   <a href='file:///~/Anaconda3/envs/sktime/lib/site-packages/pandas/core/indexing.py?line=1151'>1152</a>\u001b[0m     \u001b[39m# GH#5667 this will fail if the label is not present in the axis.\u001b[39;00m\n\u001b[1;32m-> <a href='file:///~/Anaconda3/envs/sktime/lib/site-packages/pandas/core/indexing.py?line=1152'>1153</a>\u001b[0m     \u001b[39mreturn\u001b[39;00m \u001b[39mself\u001b[39;49m\u001b[39m.\u001b[39;49mobj\u001b[39m.\u001b[39;49mxs(label, axis\u001b[39m=\u001b[39;49maxis)\n",
      "File \u001b[1;32m~\\Anaconda3\\envs\\sktime\\lib\\site-packages\\pandas\\core\\generic.py:3861\u001b[0m, in \u001b[0;36mNDFrame.xs\u001b[1;34m(self, key, axis, level, drop_level)\u001b[0m\n\u001b[0;32m   <a href='file:///~/Anaconda3/envs/sktime/lib/site-packages/pandas/core/generic.py?line=3858'>3859</a>\u001b[0m \u001b[39mif\u001b[39;00m axis \u001b[39m==\u001b[39m \u001b[39m1\u001b[39m:\n\u001b[0;32m   <a href='file:///~/Anaconda3/envs/sktime/lib/site-packages/pandas/core/generic.py?line=3859'>3860</a>\u001b[0m     \u001b[39mif\u001b[39;00m drop_level:\n\u001b[1;32m-> <a href='file:///~/Anaconda3/envs/sktime/lib/site-packages/pandas/core/generic.py?line=3860'>3861</a>\u001b[0m         \u001b[39mreturn\u001b[39;00m \u001b[39mself\u001b[39;49m[key]\n\u001b[0;32m   <a href='file:///~/Anaconda3/envs/sktime/lib/site-packages/pandas/core/generic.py?line=3861'>3862</a>\u001b[0m     index \u001b[39m=\u001b[39m \u001b[39mself\u001b[39m\u001b[39m.\u001b[39mcolumns\n\u001b[0;32m   <a href='file:///~/Anaconda3/envs/sktime/lib/site-packages/pandas/core/generic.py?line=3862'>3863</a>\u001b[0m \u001b[39melse\u001b[39;00m:\n",
      "File \u001b[1;32m~\\Anaconda3\\envs\\sktime\\lib\\site-packages\\pandas\\core\\frame.py:3505\u001b[0m, in \u001b[0;36mDataFrame.__getitem__\u001b[1;34m(self, key)\u001b[0m\n\u001b[0;32m   <a href='file:///~/Anaconda3/envs/sktime/lib/site-packages/pandas/core/frame.py?line=3502'>3503</a>\u001b[0m \u001b[39mif\u001b[39;00m \u001b[39mself\u001b[39m\u001b[39m.\u001b[39mcolumns\u001b[39m.\u001b[39mnlevels \u001b[39m>\u001b[39m \u001b[39m1\u001b[39m:\n\u001b[0;32m   <a href='file:///~/Anaconda3/envs/sktime/lib/site-packages/pandas/core/frame.py?line=3503'>3504</a>\u001b[0m     \u001b[39mreturn\u001b[39;00m \u001b[39mself\u001b[39m\u001b[39m.\u001b[39m_getitem_multilevel(key)\n\u001b[1;32m-> <a href='file:///~/Anaconda3/envs/sktime/lib/site-packages/pandas/core/frame.py?line=3504'>3505</a>\u001b[0m indexer \u001b[39m=\u001b[39m \u001b[39mself\u001b[39;49m\u001b[39m.\u001b[39;49mcolumns\u001b[39m.\u001b[39;49mget_loc(key)\n\u001b[0;32m   <a href='file:///~/Anaconda3/envs/sktime/lib/site-packages/pandas/core/frame.py?line=3505'>3506</a>\u001b[0m \u001b[39mif\u001b[39;00m is_integer(indexer):\n\u001b[0;32m   <a href='file:///~/Anaconda3/envs/sktime/lib/site-packages/pandas/core/frame.py?line=3506'>3507</a>\u001b[0m     indexer \u001b[39m=\u001b[39m [indexer]\n",
      "File \u001b[1;32m~\\Anaconda3\\envs\\sktime\\lib\\site-packages\\pandas\\core\\indexes\\base.py:3623\u001b[0m, in \u001b[0;36mIndex.get_loc\u001b[1;34m(self, key, method, tolerance)\u001b[0m\n\u001b[0;32m   <a href='file:///~/Anaconda3/envs/sktime/lib/site-packages/pandas/core/indexes/base.py?line=3620'>3621</a>\u001b[0m     \u001b[39mreturn\u001b[39;00m \u001b[39mself\u001b[39m\u001b[39m.\u001b[39m_engine\u001b[39m.\u001b[39mget_loc(casted_key)\n\u001b[0;32m   <a href='file:///~/Anaconda3/envs/sktime/lib/site-packages/pandas/core/indexes/base.py?line=3621'>3622</a>\u001b[0m \u001b[39mexcept\u001b[39;00m \u001b[39mKeyError\u001b[39;00m \u001b[39mas\u001b[39;00m err:\n\u001b[1;32m-> <a href='file:///~/Anaconda3/envs/sktime/lib/site-packages/pandas/core/indexes/base.py?line=3622'>3623</a>\u001b[0m     \u001b[39mraise\u001b[39;00m \u001b[39mKeyError\u001b[39;00m(key) \u001b[39mfrom\u001b[39;00m \u001b[39merr\u001b[39;00m\n\u001b[0;32m   <a href='file:///~/Anaconda3/envs/sktime/lib/site-packages/pandas/core/indexes/base.py?line=3623'>3624</a>\u001b[0m \u001b[39mexcept\u001b[39;00m \u001b[39mTypeError\u001b[39;00m:\n\u001b[0;32m   <a href='file:///~/Anaconda3/envs/sktime/lib/site-packages/pandas/core/indexes/base.py?line=3624'>3625</a>\u001b[0m     \u001b[39m# If we have a listlike key, _check_indexing_error will raise\u001b[39;00m\n\u001b[0;32m   <a href='file:///~/Anaconda3/envs/sktime/lib/site-packages/pandas/core/indexes/base.py?line=3625'>3626</a>\u001b[0m     \u001b[39m#  InvalidIndexError. Otherwise we fall through and re-raise\u001b[39;00m\n\u001b[0;32m   <a href='file:///~/Anaconda3/envs/sktime/lib/site-packages/pandas/core/indexes/base.py?line=3626'>3627</a>\u001b[0m     \u001b[39m#  the TypeError.\u001b[39;00m\n\u001b[0;32m   <a href='file:///~/Anaconda3/envs/sktime/lib/site-packages/pandas/core/indexes/base.py?line=3627'>3628</a>\u001b[0m     \u001b[39mself\u001b[39m\u001b[39m.\u001b[39m_check_indexing_error(key)\n",
      "\u001b[1;31mKeyError\u001b[0m: 'mean_test_PinballLoss'"
     ]
    }
   ],
   "source": [
    "gcv.fit(y_test)"
   ]
  },
  {
   "cell_type": "code",
   "execution_count": null,
   "metadata": {},
   "outputs": [
    {
     "data": {
      "text/html": [
       "<div>\n",
       "<style scoped>\n",
       "    .dataframe tbody tr th:only-of-type {\n",
       "        vertical-align: middle;\n",
       "    }\n",
       "\n",
       "    .dataframe tbody tr th {\n",
       "        vertical-align: top;\n",
       "    }\n",
       "\n",
       "    .dataframe thead tr th {\n",
       "        text-align: left;\n",
       "    }\n",
       "</style>\n",
       "<table border=\"1\" class=\"dataframe\">\n",
       "  <thead>\n",
       "    <tr>\n",
       "      <th></th>\n",
       "      <th>Quantiles</th>\n",
       "    </tr>\n",
       "    <tr>\n",
       "      <th></th>\n",
       "      <th>0.95</th>\n",
       "    </tr>\n",
       "  </thead>\n",
       "  <tbody>\n",
       "    <tr>\n",
       "      <th>1958-01</th>\n",
       "      <td>5.924195</td>\n",
       "    </tr>\n",
       "    <tr>\n",
       "      <th>1958-02</th>\n",
       "      <td>5.932007</td>\n",
       "    </tr>\n",
       "    <tr>\n",
       "      <th>1958-03</th>\n",
       "      <td>6.101584</td>\n",
       "    </tr>\n",
       "    <tr>\n",
       "      <th>1958-04</th>\n",
       "      <td>6.068584</td>\n",
       "    </tr>\n",
       "    <tr>\n",
       "      <th>1958-05</th>\n",
       "      <td>6.075371</td>\n",
       "    </tr>\n",
       "    <tr>\n",
       "      <th>1958-06</th>\n",
       "      <td>6.221694</td>\n",
       "    </tr>\n",
       "    <tr>\n",
       "      <th>1958-07</th>\n",
       "      <td>6.334863</td>\n",
       "    </tr>\n",
       "    <tr>\n",
       "      <th>1958-08</th>\n",
       "      <td>6.335266</td>\n",
       "    </tr>\n",
       "    <tr>\n",
       "      <th>1958-09</th>\n",
       "      <td>6.214878</td>\n",
       "    </tr>\n",
       "    <tr>\n",
       "      <th>1958-10</th>\n",
       "      <td>6.070528</td>\n",
       "    </tr>\n",
       "    <tr>\n",
       "      <th>1958-11</th>\n",
       "      <td>5.925579</td>\n",
       "    </tr>\n",
       "    <tr>\n",
       "      <th>1958-12</th>\n",
       "      <td>6.078104</td>\n",
       "    </tr>\n",
       "    <tr>\n",
       "      <th>1959-01</th>\n",
       "      <td>6.099997</td>\n",
       "    </tr>\n",
       "    <tr>\n",
       "      <th>1959-02</th>\n",
       "      <td>6.099564</td>\n",
       "    </tr>\n",
       "    <tr>\n",
       "      <th>1959-03</th>\n",
       "      <td>6.264529</td>\n",
       "    </tr>\n",
       "    <tr>\n",
       "      <th>1959-04</th>\n",
       "      <td>6.225837</td>\n",
       "    </tr>\n",
       "    <tr>\n",
       "      <th>1959-05</th>\n",
       "      <td>6.228208</td>\n",
       "    </tr>\n",
       "    <tr>\n",
       "      <th>1959-06</th>\n",
       "      <td>6.372283</td>\n",
       "    </tr>\n",
       "    <tr>\n",
       "      <th>1959-07</th>\n",
       "      <td>6.483310</td>\n",
       "    </tr>\n",
       "    <tr>\n",
       "      <th>1959-08</th>\n",
       "      <td>6.480695</td>\n",
       "    </tr>\n",
       "    <tr>\n",
       "      <th>1959-09</th>\n",
       "      <td>6.356259</td>\n",
       "    </tr>\n",
       "    <tr>\n",
       "      <th>1959-10</th>\n",
       "      <td>6.207853</td>\n",
       "    </tr>\n",
       "    <tr>\n",
       "      <th>1959-11</th>\n",
       "      <td>6.059060</td>\n",
       "    </tr>\n",
       "    <tr>\n",
       "      <th>1959-12</th>\n",
       "      <td>6.211218</td>\n",
       "    </tr>\n",
       "    <tr>\n",
       "      <th>1960-01</th>\n",
       "      <td>6.231455</td>\n",
       "    </tr>\n",
       "    <tr>\n",
       "      <th>1960-02</th>\n",
       "      <td>6.229256</td>\n",
       "    </tr>\n",
       "    <tr>\n",
       "      <th>1960-03</th>\n",
       "      <td>6.394400</td>\n",
       "    </tr>\n",
       "    <tr>\n",
       "      <th>1960-04</th>\n",
       "      <td>6.353746</td>\n",
       "    </tr>\n",
       "    <tr>\n",
       "      <th>1960-05</th>\n",
       "      <td>6.354702</td>\n",
       "    </tr>\n",
       "    <tr>\n",
       "      <th>1960-06</th>\n",
       "      <td>6.499006</td>\n",
       "    </tr>\n",
       "    <tr>\n",
       "      <th>1960-07</th>\n",
       "      <td>6.609971</td>\n",
       "    </tr>\n",
       "    <tr>\n",
       "      <th>1960-08</th>\n",
       "      <td>6.606113</td>\n",
       "    </tr>\n",
       "    <tr>\n",
       "      <th>1960-09</th>\n",
       "      <td>6.479159</td>\n",
       "    </tr>\n",
       "    <tr>\n",
       "      <th>1960-10</th>\n",
       "      <td>6.328032</td>\n",
       "    </tr>\n",
       "    <tr>\n",
       "      <th>1960-11</th>\n",
       "      <td>6.176568</td>\n",
       "    </tr>\n",
       "    <tr>\n",
       "      <th>1960-12</th>\n",
       "      <td>6.329399</td>\n",
       "    </tr>\n",
       "  </tbody>\n",
       "</table>\n",
       "</div>"
      ],
      "text/plain": [
       "        Quantiles\n",
       "             0.95\n",
       "1958-01  5.924195\n",
       "1958-02  5.932007\n",
       "1958-03  6.101584\n",
       "1958-04  6.068584\n",
       "1958-05  6.075371\n",
       "1958-06  6.221694\n",
       "1958-07  6.334863\n",
       "1958-08  6.335266\n",
       "1958-09  6.214878\n",
       "1958-10  6.070528\n",
       "1958-11  5.925579\n",
       "1958-12  6.078104\n",
       "1959-01  6.099997\n",
       "1959-02  6.099564\n",
       "1959-03  6.264529\n",
       "1959-04  6.225837\n",
       "1959-05  6.228208\n",
       "1959-06  6.372283\n",
       "1959-07  6.483310\n",
       "1959-08  6.480695\n",
       "1959-09  6.356259\n",
       "1959-10  6.207853\n",
       "1959-11  6.059060\n",
       "1959-12  6.211218\n",
       "1960-01  6.231455\n",
       "1960-02  6.229256\n",
       "1960-03  6.394400\n",
       "1960-04  6.353746\n",
       "1960-05  6.354702\n",
       "1960-06  6.499006\n",
       "1960-07  6.609971\n",
       "1960-08  6.606113\n",
       "1960-09  6.479159\n",
       "1960-10  6.328032\n",
       "1960-11  6.176568\n",
       "1960-12  6.329399"
      ]
     },
     "execution_count": 12,
     "metadata": {},
     "output_type": "execute_result"
    }
   ],
   "source": [
    "q_dat"
   ]
  },
  {
   "cell_type": "code",
   "execution_count": null,
   "metadata": {},
   "outputs": [],
   "source": [
    "i_dat"
   ]
  },
  {
   "cell_type": "code",
   "execution_count": null,
   "metadata": {},
   "outputs": [],
   "source": [
    "out = [None] * 10\n",
    "out[1] = [2,2]\n",
    "out"
   ]
  },
  {
   "cell_type": "code",
   "execution_count": null,
   "metadata": {},
   "outputs": [
    {
     "ename": "AxisError",
     "evalue": "axis 1 is out of bounds for array of dimension 1",
     "output_type": "error",
     "traceback": [
      "\u001b[1;31m---------------------------------------------------------------------------\u001b[0m",
      "\u001b[1;31mAxisError\u001b[0m                                 Traceback (most recent call last)",
      "Input \u001b[1;32mIn [8]\u001b[0m, in \u001b[0;36m<module>\u001b[1;34m\u001b[0m\n\u001b[1;32m----> 1\u001b[0m loss\u001b[39m.\u001b[39;49mevaluate(y_test, q_dat)\n",
      "File \u001b[1;32mc:\\users\\e.enticott\\repositories\\sktime\\sktime\\sktime\\performance_metrics\\forecasting\\probabilistic\\_classes.py:60\u001b[0m, in \u001b[0;36m_BaseProbaForecastingErrorMetric.evaluate\u001b[1;34m(self, y_true, y_pred, multioutput, **kwargs)\u001b[0m\n\u001b[0;32m     <a href='file:///c%3A/users/e.enticott/repositories/sktime/sktime/sktime/performance_metrics/forecasting/probabilistic/_classes.py?line=55'>56</a>\u001b[0m y_true_inner, y_pred_inner, multioutput \u001b[39m=\u001b[39m \u001b[39mself\u001b[39m\u001b[39m.\u001b[39m_check_ys(\n\u001b[0;32m     <a href='file:///c%3A/users/e.enticott/repositories/sktime/sktime/sktime/performance_metrics/forecasting/probabilistic/_classes.py?line=56'>57</a>\u001b[0m     y_true, y_pred, multioutput\n\u001b[0;32m     <a href='file:///c%3A/users/e.enticott/repositories/sktime/sktime/sktime/performance_metrics/forecasting/probabilistic/_classes.py?line=57'>58</a>\u001b[0m )\n\u001b[0;32m     <a href='file:///c%3A/users/e.enticott/repositories/sktime/sktime/sktime/performance_metrics/forecasting/probabilistic/_classes.py?line=58'>59</a>\u001b[0m \u001b[39m# pass to inner function\u001b[39;00m\n\u001b[1;32m---> <a href='file:///c%3A/users/e.enticott/repositories/sktime/sktime/sktime/performance_metrics/forecasting/probabilistic/_classes.py?line=59'>60</a>\u001b[0m \u001b[39mreturn\u001b[39;00m \u001b[39mself\u001b[39;49m\u001b[39m.\u001b[39;49m_evaluate(y_true_inner, y_pred_inner, multioutput, \u001b[39m*\u001b[39;49m\u001b[39m*\u001b[39;49mkwargs)\n",
      "File \u001b[1;32mc:\\users\\e.enticott\\repositories\\sktime\\sktime\\sktime\\performance_metrics\\forecasting\\probabilistic\\_classes.py:220\u001b[0m, in \u001b[0;36mPinballLoss._evaluate\u001b[1;34m(self, y_true, y_pred, multioutput)\u001b[0m\n\u001b[0;32m    <a href='file:///c%3A/users/e.enticott/repositories/sktime/sktime/sktime/performance_metrics/forecasting/probabilistic/_classes.py?line=215'>216</a>\u001b[0m     loss \u001b[39m=\u001b[39m alpha \u001b[39m*\u001b[39m sign \u001b[39m*\u001b[39m diff \u001b[39m-\u001b[39m (\u001b[39m1\u001b[39m \u001b[39m-\u001b[39m alpha) \u001b[39m*\u001b[39m (\u001b[39m1\u001b[39m \u001b[39m-\u001b[39m sign) \u001b[39m*\u001b[39m diff\n\u001b[0;32m    <a href='file:///c%3A/users/e.enticott/repositories/sktime/sktime/sktime/performance_metrics/forecasting/probabilistic/_classes.py?line=217'>218</a>\u001b[0m     loss \u001b[39m=\u001b[39m np\u001b[39m.\u001b[39maverage(loss, axis\u001b[39m=\u001b[39m\u001b[39m0\u001b[39m)\n\u001b[1;32m--> <a href='file:///c%3A/users/e.enticott/repositories/sktime/sktime/sktime/performance_metrics/forecasting/probabilistic/_classes.py?line=219'>220</a>\u001b[0m     out[i] \u001b[39m=\u001b[39m \u001b[39mself\u001b[39;49m\u001b[39m.\u001b[39;49m_handle_multioutput(loss, multioutput)\n\u001b[0;32m    <a href='file:///c%3A/users/e.enticott/repositories/sktime/sktime/sktime/performance_metrics/forecasting/probabilistic/_classes.py?line=221'>222</a>\u001b[0m out_df \u001b[39m=\u001b[39m pd\u001b[39m.\u001b[39mDataFrame([out], columns\u001b[39m=\u001b[39malphas)\n\u001b[0;32m    <a href='file:///c%3A/users/e.enticott/repositories/sktime/sktime/sktime/performance_metrics/forecasting/probabilistic/_classes.py?line=222'>223</a>\u001b[0m \u001b[39mreturn\u001b[39;00m out_df\n",
      "File \u001b[1;32mc:\\users\\e.enticott\\repositories\\sktime\\sktime\\sktime\\performance_metrics\\forecasting\\probabilistic\\_classes.py:184\u001b[0m, in \u001b[0;36m_BaseProbaForecastingErrorMetric._handle_multioutput\u001b[1;34m(self, loss, multioutput)\u001b[0m\n\u001b[0;32m    <a href='file:///c%3A/users/e.enticott/repositories/sktime/sktime/sktime/performance_metrics/forecasting/probabilistic/_classes.py?line=177'>178</a>\u001b[0m     \u001b[39melse\u001b[39;00m:\n\u001b[0;32m    <a href='file:///c%3A/users/e.enticott/repositories/sktime/sktime/sktime/performance_metrics/forecasting/probabilistic/_classes.py?line=178'>179</a>\u001b[0m         \u001b[39mraise\u001b[39;00m \u001b[39mValueError\u001b[39;00m(\n\u001b[0;32m    <a href='file:///c%3A/users/e.enticott/repositories/sktime/sktime/sktime/performance_metrics/forecasting/probabilistic/_classes.py?line=179'>180</a>\u001b[0m             \u001b[39m\"\u001b[39m\u001b[39mmultioutput is expected to be \u001b[39m\u001b[39m'\u001b[39m\u001b[39mraw_values\u001b[39m\u001b[39m'\u001b[39m\u001b[39m \u001b[39m\u001b[39m\"\u001b[39m\n\u001b[0;32m    <a href='file:///c%3A/users/e.enticott/repositories/sktime/sktime/sktime/performance_metrics/forecasting/probabilistic/_classes.py?line=180'>181</a>\u001b[0m             \u001b[39m\"\u001b[39m\u001b[39mor \u001b[39m\u001b[39m'\u001b[39m\u001b[39muniform_average\u001b[39m\u001b[39m'\u001b[39m\u001b[39m but we got \u001b[39m\u001b[39m%r\u001b[39;00m\u001b[39m\"\u001b[39m\n\u001b[0;32m    <a href='file:///c%3A/users/e.enticott/repositories/sktime/sktime/sktime/performance_metrics/forecasting/probabilistic/_classes.py?line=181'>182</a>\u001b[0m             \u001b[39m\"\u001b[39m\u001b[39m instead.\u001b[39m\u001b[39m\"\u001b[39m \u001b[39m%\u001b[39m multioutput\n\u001b[0;32m    <a href='file:///c%3A/users/e.enticott/repositories/sktime/sktime/sktime/performance_metrics/forecasting/probabilistic/_classes.py?line=182'>183</a>\u001b[0m         )\n\u001b[1;32m--> <a href='file:///c%3A/users/e.enticott/repositories/sktime/sktime/sktime/performance_metrics/forecasting/probabilistic/_classes.py?line=183'>184</a>\u001b[0m out \u001b[39m=\u001b[39m np\u001b[39m.\u001b[39;49maverage(loss, weights\u001b[39m=\u001b[39;49mmultioutput, axis\u001b[39m=\u001b[39;49m\u001b[39m1\u001b[39;49m)\n\u001b[0;32m    <a href='file:///c%3A/users/e.enticott/repositories/sktime/sktime/sktime/performance_metrics/forecasting/probabilistic/_classes.py?line=184'>185</a>\u001b[0m \u001b[39mreturn\u001b[39;00m out\n",
      "File \u001b[1;32m<__array_function__ internals>:5\u001b[0m, in \u001b[0;36maverage\u001b[1;34m(*args, **kwargs)\u001b[0m\n",
      "File \u001b[1;32m~\\Anaconda3\\envs\\sktime\\lib\\site-packages\\numpy\\lib\\function_base.py:380\u001b[0m, in \u001b[0;36maverage\u001b[1;34m(a, axis, weights, returned)\u001b[0m\n\u001b[0;32m    <a href='file:///~/Anaconda3/envs/sktime/lib/site-packages/numpy/lib/function_base.py?line=376'>377</a>\u001b[0m a \u001b[39m=\u001b[39m np\u001b[39m.\u001b[39masanyarray(a)\n\u001b[0;32m    <a href='file:///~/Anaconda3/envs/sktime/lib/site-packages/numpy/lib/function_base.py?line=378'>379</a>\u001b[0m \u001b[39mif\u001b[39;00m weights \u001b[39mis\u001b[39;00m \u001b[39mNone\u001b[39;00m:\n\u001b[1;32m--> <a href='file:///~/Anaconda3/envs/sktime/lib/site-packages/numpy/lib/function_base.py?line=379'>380</a>\u001b[0m     avg \u001b[39m=\u001b[39m a\u001b[39m.\u001b[39;49mmean(axis)\n\u001b[0;32m    <a href='file:///~/Anaconda3/envs/sktime/lib/site-packages/numpy/lib/function_base.py?line=380'>381</a>\u001b[0m     scl \u001b[39m=\u001b[39m avg\u001b[39m.\u001b[39mdtype\u001b[39m.\u001b[39mtype(a\u001b[39m.\u001b[39msize\u001b[39m/\u001b[39mavg\u001b[39m.\u001b[39msize)\n\u001b[0;32m    <a href='file:///~/Anaconda3/envs/sktime/lib/site-packages/numpy/lib/function_base.py?line=381'>382</a>\u001b[0m \u001b[39melse\u001b[39;00m:\n",
      "File \u001b[1;32m~\\Anaconda3\\envs\\sktime\\lib\\site-packages\\numpy\\core\\_methods.py:167\u001b[0m, in \u001b[0;36m_mean\u001b[1;34m(a, axis, dtype, out, keepdims, where)\u001b[0m\n\u001b[0;32m    <a href='file:///~/Anaconda3/envs/sktime/lib/site-packages/numpy/core/_methods.py?line=162'>163</a>\u001b[0m arr \u001b[39m=\u001b[39m asanyarray(a)\n\u001b[0;32m    <a href='file:///~/Anaconda3/envs/sktime/lib/site-packages/numpy/core/_methods.py?line=164'>165</a>\u001b[0m is_float16_result \u001b[39m=\u001b[39m \u001b[39mFalse\u001b[39;00m\n\u001b[1;32m--> <a href='file:///~/Anaconda3/envs/sktime/lib/site-packages/numpy/core/_methods.py?line=166'>167</a>\u001b[0m rcount \u001b[39m=\u001b[39m _count_reduce_items(arr, axis, keepdims\u001b[39m=\u001b[39;49mkeepdims, where\u001b[39m=\u001b[39;49mwhere)\n\u001b[0;32m    <a href='file:///~/Anaconda3/envs/sktime/lib/site-packages/numpy/core/_methods.py?line=167'>168</a>\u001b[0m \u001b[39mif\u001b[39;00m rcount \u001b[39m==\u001b[39m \u001b[39m0\u001b[39m \u001b[39mif\u001b[39;00m where \u001b[39mis\u001b[39;00m \u001b[39mTrue\u001b[39;00m \u001b[39melse\u001b[39;00m umr_any(rcount \u001b[39m==\u001b[39m \u001b[39m0\u001b[39m, axis\u001b[39m=\u001b[39m\u001b[39mNone\u001b[39;00m):\n\u001b[0;32m    <a href='file:///~/Anaconda3/envs/sktime/lib/site-packages/numpy/core/_methods.py?line=168'>169</a>\u001b[0m     warnings\u001b[39m.\u001b[39mwarn(\u001b[39m\"\u001b[39m\u001b[39mMean of empty slice.\u001b[39m\u001b[39m\"\u001b[39m, \u001b[39mRuntimeWarning\u001b[39;00m, stacklevel\u001b[39m=\u001b[39m\u001b[39m2\u001b[39m)\n",
      "File \u001b[1;32m~\\Anaconda3\\envs\\sktime\\lib\\site-packages\\numpy\\core\\_methods.py:76\u001b[0m, in \u001b[0;36m_count_reduce_items\u001b[1;34m(arr, axis, keepdims, where)\u001b[0m\n\u001b[0;32m     <a href='file:///~/Anaconda3/envs/sktime/lib/site-packages/numpy/core/_methods.py?line=73'>74</a>\u001b[0m     items \u001b[39m=\u001b[39m nt\u001b[39m.\u001b[39mintp(\u001b[39m1\u001b[39m)\n\u001b[0;32m     <a href='file:///~/Anaconda3/envs/sktime/lib/site-packages/numpy/core/_methods.py?line=74'>75</a>\u001b[0m     \u001b[39mfor\u001b[39;00m ax \u001b[39min\u001b[39;00m axis:\n\u001b[1;32m---> <a href='file:///~/Anaconda3/envs/sktime/lib/site-packages/numpy/core/_methods.py?line=75'>76</a>\u001b[0m         items \u001b[39m*\u001b[39m\u001b[39m=\u001b[39m arr\u001b[39m.\u001b[39mshape[mu\u001b[39m.\u001b[39;49mnormalize_axis_index(ax, arr\u001b[39m.\u001b[39;49mndim)]\n\u001b[0;32m     <a href='file:///~/Anaconda3/envs/sktime/lib/site-packages/numpy/core/_methods.py?line=76'>77</a>\u001b[0m \u001b[39melse\u001b[39;00m:\n\u001b[0;32m     <a href='file:///~/Anaconda3/envs/sktime/lib/site-packages/numpy/core/_methods.py?line=77'>78</a>\u001b[0m     \u001b[39m# TODO: Optimize case when `where` is broadcast along a non-reduction\u001b[39;00m\n\u001b[0;32m     <a href='file:///~/Anaconda3/envs/sktime/lib/site-packages/numpy/core/_methods.py?line=78'>79</a>\u001b[0m     \u001b[39m# axis and full sum is more excessive than needed.\u001b[39;00m\n\u001b[0;32m     <a href='file:///~/Anaconda3/envs/sktime/lib/site-packages/numpy/core/_methods.py?line=79'>80</a>\u001b[0m \n\u001b[0;32m     <a href='file:///~/Anaconda3/envs/sktime/lib/site-packages/numpy/core/_methods.py?line=80'>81</a>\u001b[0m     \u001b[39m# guarded to protect circular imports\u001b[39;00m\n\u001b[0;32m     <a href='file:///~/Anaconda3/envs/sktime/lib/site-packages/numpy/core/_methods.py?line=81'>82</a>\u001b[0m     \u001b[39mfrom\u001b[39;00m \u001b[39mnumpy\u001b[39;00m\u001b[39m.\u001b[39;00m\u001b[39mlib\u001b[39;00m\u001b[39m.\u001b[39;00m\u001b[39mstride_tricks\u001b[39;00m \u001b[39mimport\u001b[39;00m broadcast_to\n",
      "\u001b[1;31mAxisError\u001b[0m: axis 1 is out of bounds for array of dimension 1"
     ]
    }
   ],
   "source": [
    "loss.evaluate(y_test, q_dat)"
   ]
  },
  {
   "cell_type": "code",
   "execution_count": null,
   "metadata": {},
   "outputs": [],
   "source": [
    "loss._evaluate_by_index"
   ]
  },
  {
   "cell_type": "code",
   "execution_count": null,
   "metadata": {},
   "outputs": [],
   "source": [
    "loss._evaluate_by_index(y_test, y_pred, 0.4, \"uniform_average\").to_numpy()"
   ]
  },
  {
   "cell_type": "code",
   "execution_count": null,
   "metadata": {},
   "outputs": [],
   "source": [
    "dat.index"
   ]
  },
  {
   "cell_type": "code",
   "execution_count": null,
   "metadata": {},
   "outputs": [],
   "source": [
    "ltest_df = loss.evaluate_by_index(y_test, dat)"
   ]
  },
  {
   "cell_type": "code",
   "execution_count": null,
   "metadata": {},
   "outputs": [],
   "source": [
    "[a for a in ltest_df.values[:,0]]"
   ]
  },
  {
   "cell_type": "code",
   "execution_count": null,
   "metadata": {},
   "outputs": [],
   "source": [
    "alpha = np.array([0.8,0.5,0.2])"
   ]
  },
  {
   "cell_type": "code",
   "execution_count": null,
   "metadata": {},
   "outputs": [],
   "source": [
    "diff = dat.to_numpy().T - y_test.to_numpy()\n",
    "diff"
   ]
  },
  {
   "cell_type": "code",
   "execution_count": null,
   "metadata": {},
   "outputs": [],
   "source": [
    "all(dat.dtypes == float)"
   ]
  },
  {
   "cell_type": "code",
   "execution_count": null,
   "metadata": {},
   "outputs": [],
   "source": [
    "    sign = (diff >= 0).astype(diff.dtype)\n",
    "    np.average( (((sign * diff).T * alpha) - (((1-sign) * diff).T * (1-alpha))) , axis = 0)\n",
    "    #np.mean((((sign * diff).T * alpha).T - ((1-alpha) * ((1-sign) * diff).T))[2])"
   ]
  },
  {
   "cell_type": "code",
   "execution_count": null,
   "metadata": {},
   "outputs": [],
   "source": [
    "import pandas as pd\n",
    "out_df = pd.DataFrame([[5,7,4]],columns = [0.1,0.2,0.3])"
   ]
  },
  {
   "cell_type": "code",
   "execution_count": null,
   "metadata": {},
   "outputs": [],
   "source": [
    "for i, j in enumerate([0.2,0.3]):\n",
    "    print(i,j)"
   ]
  },
  {
   "cell_type": "code",
   "execution_count": null,
   "metadata": {},
   "outputs": [],
   "source": [
    "np.full([2,5], None)"
   ]
  },
  {
   "cell_type": "code",
   "execution_count": null,
   "metadata": {},
   "outputs": [],
   "source": [
    "(1-alpha) * ((1-sign) * diff).T"
   ]
  },
  {
   "cell_type": "code",
   "execution_count": null,
   "metadata": {},
   "outputs": [],
   "source": [
    "    #diff = y_test - y_pred\n",
    "    sign = (diff >= 0).astype(diff.dtype)\n",
    "    loss = alpha * sign * diff - (1 - alpha) * (1 - sign) * diff\n",
    "    loss"
   ]
  },
  {
   "cell_type": "code",
   "execution_count": null,
   "metadata": {},
   "outputs": [],
   "source": [
    "y_true = dat[\"Quantiles\"][0.5]"
   ]
  },
  {
   "cell_type": "code",
   "execution_count": null,
   "metadata": {},
   "outputs": [],
   "source": [
    "loss.evaluate(y_true, y_pred)"
   ]
  },
  {
   "cell_type": "code",
   "execution_count": null,
   "metadata": {},
   "outputs": [],
   "source": [
    "QUANTILE_PRED = f.predict_quantiles(fh=fh, alpha=[0.05, 0.5, 0.95])\n"
   ]
  },
  {
   "cell_type": "code",
   "execution_count": null,
   "metadata": {},
   "outputs": [],
   "source": [
    "loss(y_true, QUANTILE_PRED)"
   ]
  },
  {
   "cell_type": "code",
   "execution_count": null,
   "metadata": {},
   "outputs": [],
   "source": [
    "loss.evaluate_by_index(y_true, y_pred)\n",
    "assert(a == 0 for a in loss.evaluate_by_index(y_true, y_pred))"
   ]
  },
  {
   "cell_type": "code",
   "execution_count": null,
   "metadata": {},
   "outputs": [],
   "source": [
    "f.predict_interval(fh)"
   ]
  },
  {
   "cell_type": "code",
   "execution_count": null,
   "metadata": {},
   "outputs": [],
   "source": [
    "test_loss = PinballLoss(alpha = 0.5)"
   ]
  },
  {
   "cell_type": "code",
   "execution_count": null,
   "metadata": {},
   "outputs": [],
   "source": [
    "def my_func1():\n",
    "    return my_func2()\n",
    "\n",
    "def my_func2():\n",
    "    return my_func1()"
   ]
  },
  {
   "cell_type": "code",
   "execution_count": null,
   "metadata": {},
   "outputs": [],
   "source": [
    "my_func1()"
   ]
  }
 ],
 "metadata": {
  "interpreter": {
   "hash": "2a4c1bd0c18409b39182e485d44e43f5e8ac7e8a10c8ff2f588fba96b8a44a80"
  },
  "kernelspec": {
   "display_name": "Python 3.8.12 ('sktime')",
   "language": "python",
   "name": "python3"
  },
  "language_info": {
   "codemirror_mode": {
    "name": "ipython",
    "version": 3
   },
   "file_extension": ".py",
   "mimetype": "text/x-python",
   "name": "python",
   "nbconvert_exporter": "python",
   "pygments_lexer": "ipython3",
   "version": "3.8.12"
  },
  "orig_nbformat": 4
 },
 "nbformat": 4,
 "nbformat_minor": 2
}
