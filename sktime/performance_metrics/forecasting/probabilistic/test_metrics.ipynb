{
 "cells": [
  {
   "cell_type": "code",
   "execution_count": 1,
   "metadata": {},
   "outputs": [
    {
     "name": "stderr",
     "output_type": "stream",
     "text": [
      "c:\\users\\e.enticott\\repositories\\sktime\\sktime\\sktime\\utils\\validation\\series.py:21: FutureWarning: pandas.Int64Index is deprecated and will be removed from pandas in a future version. Use pandas.Index with the appropriate dtype instead.\n",
      "  VALID_INDEX_TYPES = (pd.Int64Index, pd.RangeIndex, pd.PeriodIndex, pd.DatetimeIndex)\n",
      "c:\\users\\e.enticott\\repositories\\sktime\\sktime\\sktime\\forecasting\\base\\_fh.py:18: FutureWarning: pandas.Int64Index is deprecated and will be removed from pandas in a future version. Use pandas.Index with the appropriate dtype instead.\n",
      "  RELATIVE_TYPES = (pd.Int64Index, pd.RangeIndex)\n",
      "c:\\users\\e.enticott\\repositories\\sktime\\sktime\\sktime\\forecasting\\base\\_fh.py:19: FutureWarning: pandas.Int64Index is deprecated and will be removed from pandas in a future version. Use pandas.Index with the appropriate dtype instead.\n",
      "  ABSOLUTE_TYPES = (pd.Int64Index, pd.RangeIndex, pd.DatetimeIndex, pd.PeriodIndex)\n",
      "c:\\users\\e.enticott\\repositories\\sktime\\sktime\\sktime\\datatypes\\_series\\_check.py:43: FutureWarning: pandas.Int64Index is deprecated and will be removed from pandas in a future version. Use pandas.Index with the appropriate dtype instead.\n",
      "  VALID_INDEX_TYPES = (pd.Int64Index, pd.RangeIndex, pd.PeriodIndex, pd.DatetimeIndex)\n",
      "c:\\users\\e.enticott\\repositories\\sktime\\sktime\\sktime\\datatypes\\_hierarchical\\_check.py:50: FutureWarning: pandas.Int64Index is deprecated and will be removed from pandas in a future version. Use pandas.Index with the appropriate dtype instead.\n",
      "  VALID_INDEX_TYPES = (pd.Int64Index, pd.RangeIndex, pd.PeriodIndex, pd.DatetimeIndex)\n",
      "c:\\users\\e.enticott\\repositories\\sktime\\sktime\\sktime\\datatypes\\_hierarchical\\_check.py:51: FutureWarning: pandas.Int64Index is deprecated and will be removed from pandas in a future version. Use pandas.Index with the appropriate dtype instead.\n",
      "  VALID_MULTIINDEX_TYPES = (pd.Int64Index, pd.RangeIndex)\n",
      "c:\\users\\e.enticott\\repositories\\sktime\\sktime\\sktime\\datatypes\\_panel\\_check.py:48: FutureWarning: pandas.Int64Index is deprecated and will be removed from pandas in a future version. Use pandas.Index with the appropriate dtype instead.\n",
      "  VALID_INDEX_TYPES = (pd.Int64Index, pd.RangeIndex, pd.PeriodIndex, pd.DatetimeIndex)\n",
      "c:\\users\\e.enticott\\repositories\\sktime\\sktime\\sktime\\datatypes\\_panel\\_check.py:49: FutureWarning: pandas.Int64Index is deprecated and will be removed from pandas in a future version. Use pandas.Index with the appropriate dtype instead.\n",
      "  VALID_MULTIINDEX_TYPES = (pd.Int64Index, pd.RangeIndex)\n"
     ]
    }
   ],
   "source": [
    "from sktime.forecasting.theta import ThetaForecaster\n",
    "from sktime.performance_metrics.forecasting.probabilistic import PinballLoss"
   ]
  },
  {
   "cell_type": "code",
   "execution_count": 2,
   "metadata": {},
   "outputs": [
    {
     "name": "stderr",
     "output_type": "stream",
     "text": [
      "c:\\users\\e.enticott\\repositories\\sktime\\sktime\\sktime\\forecasting\\tests\\_config.py:85: FutureWarning: pandas.Int64Index is deprecated and will be removed from pandas in a future version. Use pandas.Index with the appropriate dtype instead.\n",
      "  \"int\": pd.Int64Index,\n",
      "c:\\users\\e.enticott\\repositories\\sktime\\sktime\\sktime\\datasets\\_single_problem_loaders.py:658: FutureWarning: The squeeze argument has been deprecated and will be removed in a future version. Append .squeeze(\"columns\") to the call to squeeze.\n",
      "\n",
      "\n",
      "  y = pd.read_csv(path, index_col=0, squeeze=True, dtype={1: float})\n",
      "c:\\users\\e.enticott\\repositories\\sktime\\sktime\\sktime\\forecasting\\base\\adapters\\_statsmodels.py:50: FutureWarning: pandas.Int64Index is deprecated and will be removed from pandas in a future version. Use pandas.Index with the appropriate dtype instead.\n",
      "  if isinstance(y, pd.Series) and type(y.index) == pd.Int64Index:\n",
      "c:\\users\\e.enticott\\repositories\\sktime\\sktime\\sktime\\forecasting\\base\\_fh.py:100: FutureWarning: pandas.Int64Index is deprecated and will be removed from pandas in a future version. Use pandas.Index with the appropriate dtype instead.\n",
      "  values = pd.Int64Index(values, dtype=int)\n",
      "c:\\users\\e.enticott\\repositories\\sktime\\sktime\\sktime\\utils\\datetime.py:40: FutureWarning: pandas.Int64Index is deprecated and will be removed from pandas in a future version. Use pandas.Index with the appropriate dtype instead.\n",
      "  return pd.Int64Index([d.n / count for d in duration])\n"
     ]
    }
   ],
   "source": [
    "import numpy as np\n",
    "\n",
    "from sktime.datasets import load_airline\n",
    "from sktime.forecasting.model_selection import temporal_train_test_split\n",
    "from sktime.forecasting.tests._config import TEST_OOS_FHS\n",
    "from sktime.forecasting.theta import ThetaForecaster\n",
    "from sktime.utils.validation.forecasting import check_fh\n",
    "\n",
    "y = np.log1p(load_airline())\n",
    "y_train, y_test = temporal_train_test_split(y)\n",
    "fh = np.arange(len(y_test)) + 1\n",
    "\n",
    "f = ThetaForecaster(sp=12)\n",
    "f.fit(y_train)\n",
    "y_pred = f.predict(fh=fh)\n",
    "\n",
    "np.testing.assert_allclose(y_pred, y_test, rtol=0.05)"
   ]
  },
  {
   "cell_type": "code",
   "execution_count": 3,
   "metadata": {},
   "outputs": [
    {
     "name": "stderr",
     "output_type": "stream",
     "text": [
      "c:\\users\\e.enticott\\repositories\\sktime\\sktime\\sktime\\forecasting\\base\\_fh.py:100: FutureWarning: pandas.Int64Index is deprecated and will be removed from pandas in a future version. Use pandas.Index with the appropriate dtype instead.\n",
      "  values = pd.Int64Index(values, dtype=int)\n",
      "c:\\users\\e.enticott\\repositories\\sktime\\sktime\\sktime\\utils\\datetime.py:40: FutureWarning: pandas.Int64Index is deprecated and will be removed from pandas in a future version. Use pandas.Index with the appropriate dtype instead.\n",
      "  return pd.Int64Index([d.n / count for d in duration])\n"
     ]
    },
    {
     "data": {
      "text/html": [
       "<div>\n",
       "<style scoped>\n",
       "    .dataframe tbody tr th:only-of-type {\n",
       "        vertical-align: middle;\n",
       "    }\n",
       "\n",
       "    .dataframe tbody tr th {\n",
       "        vertical-align: top;\n",
       "    }\n",
       "\n",
       "    .dataframe thead tr th {\n",
       "        text-align: left;\n",
       "    }\n",
       "</style>\n",
       "<table border=\"1\" class=\"dataframe\">\n",
       "  <thead>\n",
       "    <tr>\n",
       "      <th></th>\n",
       "      <th colspan=\"3\" halign=\"left\">Quantiles</th>\n",
       "    </tr>\n",
       "    <tr>\n",
       "      <th></th>\n",
       "      <th>0.2</th>\n",
       "      <th>0.5</th>\n",
       "      <th>0.8</th>\n",
       "    </tr>\n",
       "  </thead>\n",
       "  <tbody>\n",
       "    <tr>\n",
       "      <th>1958-01</th>\n",
       "      <td>5.808697</td>\n",
       "      <td>5.847790</td>\n",
       "      <td>5.886884</td>\n",
       "    </tr>\n",
       "    <tr>\n",
       "      <th>1958-02</th>\n",
       "      <td>5.794612</td>\n",
       "      <td>5.841117</td>\n",
       "      <td>5.887623</td>\n",
       "    </tr>\n",
       "    <tr>\n",
       "      <th>1958-03</th>\n",
       "      <td>5.945330</td>\n",
       "      <td>5.998219</td>\n",
       "      <td>6.051108</td>\n",
       "    </tr>\n",
       "    <tr>\n",
       "      <th>1958-04</th>\n",
       "      <td>5.895514</td>\n",
       "      <td>5.954095</td>\n",
       "      <td>6.012675</td>\n",
       "    </tr>\n",
       "    <tr>\n",
       "      <th>1958-05</th>\n",
       "      <td>5.886980</td>\n",
       "      <td>5.950747</td>\n",
       "      <td>6.014513</td>\n",
       "    </tr>\n",
       "    <tr>\n",
       "      <th>1958-06</th>\n",
       "      <td>6.019139</td>\n",
       "      <td>6.087700</td>\n",
       "      <td>6.156261</td>\n",
       "    </tr>\n",
       "    <tr>\n",
       "      <th>1958-07</th>\n",
       "      <td>6.119070</td>\n",
       "      <td>6.192112</td>\n",
       "      <td>6.265153</td>\n",
       "    </tr>\n",
       "    <tr>\n",
       "      <th>1958-08</th>\n",
       "      <td>6.107002</td>\n",
       "      <td>6.184265</td>\n",
       "      <td>6.261527</td>\n",
       "    </tr>\n",
       "    <tr>\n",
       "      <th>1958-09</th>\n",
       "      <td>5.974790</td>\n",
       "      <td>6.056055</td>\n",
       "      <td>6.137320</td>\n",
       "    </tr>\n",
       "    <tr>\n",
       "      <th>1958-10</th>\n",
       "      <td>5.819171</td>\n",
       "      <td>5.904250</td>\n",
       "      <td>5.989329</td>\n",
       "    </tr>\n",
       "    <tr>\n",
       "      <th>1958-11</th>\n",
       "      <td>5.663438</td>\n",
       "      <td>5.752167</td>\n",
       "      <td>5.840896</td>\n",
       "    </tr>\n",
       "    <tr>\n",
       "      <th>1958-12</th>\n",
       "      <td>5.805605</td>\n",
       "      <td>5.897841</td>\n",
       "      <td>5.990076</td>\n",
       "    </tr>\n",
       "    <tr>\n",
       "      <th>1959-01</th>\n",
       "      <td>5.817520</td>\n",
       "      <td>5.913132</td>\n",
       "      <td>6.008745</td>\n",
       "    </tr>\n",
       "    <tr>\n",
       "      <th>1959-02</th>\n",
       "      <td>5.807449</td>\n",
       "      <td>5.906324</td>\n",
       "      <td>6.005199</td>\n",
       "    </tr>\n",
       "    <tr>\n",
       "      <th>1959-03</th>\n",
       "      <td>5.963084</td>\n",
       "      <td>6.065117</td>\n",
       "      <td>6.167150</td>\n",
       "    </tr>\n",
       "    <tr>\n",
       "      <th>1959-04</th>\n",
       "      <td>5.915343</td>\n",
       "      <td>6.020439</td>\n",
       "      <td>6.125535</td>\n",
       "    </tr>\n",
       "    <tr>\n",
       "      <th>1959-05</th>\n",
       "      <td>5.908920</td>\n",
       "      <td>6.016992</td>\n",
       "      <td>6.125065</td>\n",
       "    </tr>\n",
       "    <tr>\n",
       "      <th>1959-06</th>\n",
       "      <td>6.044438</td>\n",
       "      <td>6.155407</td>\n",
       "      <td>6.266376</td>\n",
       "    </tr>\n",
       "    <tr>\n",
       "      <th>1959-07</th>\n",
       "      <td>6.147125</td>\n",
       "      <td>6.260917</td>\n",
       "      <td>6.374709</td>\n",
       "    </tr>\n",
       "    <tr>\n",
       "      <th>1959-08</th>\n",
       "      <td>6.136373</td>\n",
       "      <td>6.252919</td>\n",
       "      <td>6.369465</td>\n",
       "    </tr>\n",
       "    <tr>\n",
       "      <th>1959-09</th>\n",
       "      <td>6.003987</td>\n",
       "      <td>6.123224</td>\n",
       "      <td>6.242461</td>\n",
       "    </tr>\n",
       "    <tr>\n",
       "      <th>1959-10</th>\n",
       "      <td>5.847806</td>\n",
       "      <td>5.969675</td>\n",
       "      <td>6.091543</td>\n",
       "    </tr>\n",
       "    <tr>\n",
       "      <th>1959-11</th>\n",
       "      <td>5.691403</td>\n",
       "      <td>5.815847</td>\n",
       "      <td>5.940292</td>\n",
       "    </tr>\n",
       "    <tr>\n",
       "      <th>1959-12</th>\n",
       "      <td>5.836106</td>\n",
       "      <td>5.963074</td>\n",
       "      <td>6.090042</td>\n",
       "    </tr>\n",
       "    <tr>\n",
       "      <th>1960-01</th>\n",
       "      <td>5.849032</td>\n",
       "      <td>5.978474</td>\n",
       "      <td>6.107917</td>\n",
       "    </tr>\n",
       "    <tr>\n",
       "      <th>1960-02</th>\n",
       "      <td>5.839660</td>\n",
       "      <td>5.971531</td>\n",
       "      <td>6.103401</td>\n",
       "    </tr>\n",
       "    <tr>\n",
       "      <th>1960-03</th>\n",
       "      <td>5.997761</td>\n",
       "      <td>6.132015</td>\n",
       "      <td>6.266270</td>\n",
       "    </tr>\n",
       "    <tr>\n",
       "      <th>1960-04</th>\n",
       "      <td>5.950187</td>\n",
       "      <td>6.086783</td>\n",
       "      <td>6.223380</td>\n",
       "    </tr>\n",
       "    <tr>\n",
       "      <th>1960-05</th>\n",
       "      <td>5.944338</td>\n",
       "      <td>6.083238</td>\n",
       "      <td>6.222138</td>\n",
       "    </tr>\n",
       "    <tr>\n",
       "      <th>1960-06</th>\n",
       "      <td>6.081949</td>\n",
       "      <td>6.223114</td>\n",
       "      <td>6.364280</td>\n",
       "    </tr>\n",
       "    <tr>\n",
       "      <th>1960-07</th>\n",
       "      <td>6.186327</td>\n",
       "      <td>6.329722</td>\n",
       "      <td>6.473116</td>\n",
       "    </tr>\n",
       "    <tr>\n",
       "      <th>1960-08</th>\n",
       "      <td>6.175983</td>\n",
       "      <td>6.321573</td>\n",
       "      <td>6.467163</td>\n",
       "    </tr>\n",
       "    <tr>\n",
       "      <th>1960-09</th>\n",
       "      <td>6.042640</td>\n",
       "      <td>6.190393</td>\n",
       "      <td>6.338146</td>\n",
       "    </tr>\n",
       "    <tr>\n",
       "      <th>1960-10</th>\n",
       "      <td>5.885215</td>\n",
       "      <td>6.035099</td>\n",
       "      <td>6.184984</td>\n",
       "    </tr>\n",
       "    <tr>\n",
       "      <th>1960-11</th>\n",
       "      <td>5.727541</td>\n",
       "      <td>5.879528</td>\n",
       "      <td>6.031514</td>\n",
       "    </tr>\n",
       "    <tr>\n",
       "      <th>1960-12</th>\n",
       "      <td>5.874247</td>\n",
       "      <td>6.028307</td>\n",
       "      <td>6.182366</td>\n",
       "    </tr>\n",
       "  </tbody>\n",
       "</table>\n",
       "</div>"
      ],
      "text/plain": [
       "        Quantiles                    \n",
       "              0.2       0.5       0.8\n",
       "1958-01  5.808697  5.847790  5.886884\n",
       "1958-02  5.794612  5.841117  5.887623\n",
       "1958-03  5.945330  5.998219  6.051108\n",
       "1958-04  5.895514  5.954095  6.012675\n",
       "1958-05  5.886980  5.950747  6.014513\n",
       "1958-06  6.019139  6.087700  6.156261\n",
       "1958-07  6.119070  6.192112  6.265153\n",
       "1958-08  6.107002  6.184265  6.261527\n",
       "1958-09  5.974790  6.056055  6.137320\n",
       "1958-10  5.819171  5.904250  5.989329\n",
       "1958-11  5.663438  5.752167  5.840896\n",
       "1958-12  5.805605  5.897841  5.990076\n",
       "1959-01  5.817520  5.913132  6.008745\n",
       "1959-02  5.807449  5.906324  6.005199\n",
       "1959-03  5.963084  6.065117  6.167150\n",
       "1959-04  5.915343  6.020439  6.125535\n",
       "1959-05  5.908920  6.016992  6.125065\n",
       "1959-06  6.044438  6.155407  6.266376\n",
       "1959-07  6.147125  6.260917  6.374709\n",
       "1959-08  6.136373  6.252919  6.369465\n",
       "1959-09  6.003987  6.123224  6.242461\n",
       "1959-10  5.847806  5.969675  6.091543\n",
       "1959-11  5.691403  5.815847  5.940292\n",
       "1959-12  5.836106  5.963074  6.090042\n",
       "1960-01  5.849032  5.978474  6.107917\n",
       "1960-02  5.839660  5.971531  6.103401\n",
       "1960-03  5.997761  6.132015  6.266270\n",
       "1960-04  5.950187  6.086783  6.223380\n",
       "1960-05  5.944338  6.083238  6.222138\n",
       "1960-06  6.081949  6.223114  6.364280\n",
       "1960-07  6.186327  6.329722  6.473116\n",
       "1960-08  6.175983  6.321573  6.467163\n",
       "1960-09  6.042640  6.190393  6.338146\n",
       "1960-10  5.885215  6.035099  6.184984\n",
       "1960-11  5.727541  5.879528  6.031514\n",
       "1960-12  5.874247  6.028307  6.182366"
      ]
     },
     "execution_count": 3,
     "metadata": {},
     "output_type": "execute_result"
    }
   ],
   "source": [
    "dat = f.predict_quantiles(fh, alpha=[0.2, 0.5, 0.8])\n",
    "dat"
   ]
  },
  {
   "cell_type": "code",
   "execution_count": 4,
   "metadata": {},
   "outputs": [
    {
     "data": {
      "text/plain": [
       "Period\n",
       "1958-01    5.831882\n",
       "1958-02    5.765191\n",
       "1958-03    5.894403\n",
       "1958-04    5.855072\n",
       "1958-05    5.897154\n",
       "1958-06    6.077642\n",
       "1958-07    6.198479\n",
       "1958-08    6.226537\n",
       "1958-09    6.003887\n",
       "1958-10    5.886104\n",
       "1958-11    5.739793\n",
       "1958-12    5.823046\n",
       "1959-01    5.888878\n",
       "1959-02    5.837730\n",
       "1959-03    6.008813\n",
       "1959-04    5.983936\n",
       "1959-05    6.042633\n",
       "1959-06    6.159095\n",
       "1959-07    6.308098\n",
       "1959-08    6.327937\n",
       "1959-09    6.139885\n",
       "1959-10    6.011267\n",
       "1959-11    5.894403\n",
       "1959-12    6.006353\n",
       "1960-01    6.035481\n",
       "1960-02    5.971262\n",
       "1960-03    6.040255\n",
       "1960-04    6.135565\n",
       "1960-05    6.159095\n",
       "1960-06    6.284134\n",
       "1960-07    6.434547\n",
       "1960-08    6.408529\n",
       "1960-09    6.232448\n",
       "1960-10    6.135565\n",
       "1960-11    5.968708\n",
       "1960-12    6.070738\n",
       "Freq: M, Name: Number of airline passengers, dtype: float64"
      ]
     },
     "execution_count": 4,
     "metadata": {},
     "output_type": "execute_result"
    }
   ],
   "source": [
    "y_test"
   ]
  },
  {
   "cell_type": "code",
   "execution_count": 5,
   "metadata": {},
   "outputs": [
    {
     "data": {
      "text/plain": [
       "PinballLoss(alphas=array([0.2, 0.5, 0.8]))"
      ]
     },
     "execution_count": 5,
     "metadata": {},
     "output_type": "execute_result"
    }
   ],
   "source": [
    "loss = PinballLoss(alphas=[0.2, 0.5, 0.8])\n",
    "loss"
   ]
  },
  {
   "cell_type": "code",
   "execution_count": 22,
   "metadata": {},
   "outputs": [
    {
     "data": {
      "text/plain": [
       "(1, 3)"
      ]
     },
     "execution_count": 22,
     "metadata": {},
     "output_type": "execute_result"
    }
   ],
   "source": [
    "import pandas as pd\n",
    "\n",
    "pd.DataFrame([[1, 1, 1]], columns=[1, 1, 1]).shape"
   ]
  },
  {
   "cell_type": "code",
   "execution_count": 21,
   "metadata": {},
   "outputs": [
    {
     "data": {
      "text/plain": [
       "array([[ True]])"
      ]
     },
     "execution_count": 21,
     "metadata": {},
     "output_type": "execute_result"
    }
   ],
   "source": [
    "np.isclose(pd.DataFrame([0]), 0)"
   ]
  },
  {
   "cell_type": "code",
   "execution_count": 7,
   "metadata": {},
   "outputs": [
    {
     "data": {
      "text/plain": [
       "<bound method PinballLoss._evaluate_by_index of PinballLoss(alphas=array([0.2, 0.5, 0.8]))>"
      ]
     },
     "execution_count": 7,
     "metadata": {},
     "output_type": "execute_result"
    }
   ],
   "source": [
    "loss._evaluate_by_index"
   ]
  },
  {
   "cell_type": "code",
   "execution_count": 8,
   "metadata": {},
   "outputs": [
    {
     "data": {
      "text/plain": [
       "array([0.00954479, 0.04555572, 0.06228963, 0.05941362, 0.03215572,\n",
       "       0.00603449, 0.00254673, 0.0169088 , 0.03130099, 0.01088778,\n",
       "       0.00742446, 0.04487681, 0.01455265, 0.04115609, 0.03378233,\n",
       "       0.02190165, 0.0102562 , 0.00147531, 0.01887267, 0.03000721,\n",
       "       0.0066642 , 0.01663693, 0.03142214, 0.01731183, 0.02280286,\n",
       "       0.00016123, 0.05505632, 0.01951259, 0.03034299, 0.02440787,\n",
       "       0.04192995, 0.03478237, 0.01682212, 0.04018622, 0.03567184,\n",
       "       0.01697246])"
      ]
     },
     "execution_count": 8,
     "metadata": {},
     "output_type": "execute_result"
    }
   ],
   "source": [
    "loss._evaluate_by_index(y_test, y_pred, 0.4, \"uniform_average\").to_numpy()"
   ]
  },
  {
   "cell_type": "code",
   "execution_count": 9,
   "metadata": {},
   "outputs": [
    {
     "data": {
      "text/plain": [
       "PeriodIndex(['1958-01', '1958-02', '1958-03', '1958-04', '1958-05', '1958-06',\n",
       "             '1958-07', '1958-08', '1958-09', '1958-10', '1958-11', '1958-12',\n",
       "             '1959-01', '1959-02', '1959-03', '1959-04', '1959-05', '1959-06',\n",
       "             '1959-07', '1959-08', '1959-09', '1959-10', '1959-11', '1959-12',\n",
       "             '1960-01', '1960-02', '1960-03', '1960-04', '1960-05', '1960-06',\n",
       "             '1960-07', '1960-08', '1960-09', '1960-10', '1960-11', '1960-12'],\n",
       "            dtype='period[M]')"
      ]
     },
     "execution_count": 9,
     "metadata": {},
     "output_type": "execute_result"
    }
   ],
   "source": [
    "dat.index"
   ]
  },
  {
   "cell_type": "code",
   "execution_count": 25,
   "metadata": {},
   "outputs": [],
   "source": [
    "ltest_df = loss.evaluate_by_index(y_test, dat)"
   ]
  },
  {
   "cell_type": "code",
   "execution_count": 41,
   "metadata": {},
   "outputs": [
    {
     "data": {
      "text/plain": [
       "[0.004637141365195419,\n",
       " 0.023536446471495512,\n",
       " 0.04074174287685182,\n",
       " 0.032353650794869536,\n",
       " 0.0020346994807507457,\n",
       " 0.011700698965443302,\n",
       " 0.015881672307354044,\n",
       " 0.023906941328276334,\n",
       " 0.0058193165703039895,\n",
       " 0.013386543954386987,\n",
       " 0.015271050808461695,\n",
       " 0.0034881304841698937,\n",
       " 0.014271685978815719,\n",
       " 0.006056311199774989,\n",
       " 0.009145822630155643,\n",
       " 0.01371867122829702,\n",
       " 0.02674258727899357,\n",
       " 0.02293144631983797,\n",
       " 0.032194687186404634,\n",
       " 0.03831284893870031,\n",
       " 0.027179518793080427,\n",
       " 0.0326921739714507,\n",
       " 0.04059993992241076,\n",
       " 0.03404950255659252,\n",
       " 0.03728989469829074,\n",
       " 0.026320313304665534,\n",
       " 0.008498763331017933,\n",
       " 0.0370756559034426,\n",
       " 0.04295145220664179,\n",
       " 0.04043697125811274,\n",
       " 0.04964393190187355,\n",
       " 0.04650923418268427,\n",
       " 0.037961683961841075,\n",
       " 0.050070060488346974,\n",
       " 0.048233219136790954,\n",
       " 0.03929814586015201]"
      ]
     },
     "execution_count": 41,
     "metadata": {},
     "output_type": "execute_result"
    }
   ],
   "source": [
    "[a for a in ltest_df.values[:, 0]]"
   ]
  },
  {
   "cell_type": "code",
   "execution_count": 11,
   "metadata": {},
   "outputs": [],
   "source": [
    "alpha = np.array([0.8, 0.5, 0.2])"
   ]
  },
  {
   "cell_type": "code",
   "execution_count": 12,
   "metadata": {},
   "outputs": [
    {
     "data": {
      "text/plain": [
       "array([[-0.02318571,  0.02942056,  0.05092718,  0.04044206, -0.0101735 ,\n",
       "        -0.05850349, -0.07940836, -0.11953471, -0.02909658, -0.06693272,\n",
       "        -0.07635525, -0.01744065, -0.07135843, -0.03028156, -0.04572911,\n",
       "        -0.06859336, -0.13371294, -0.11465723, -0.16097344, -0.19156424,\n",
       "        -0.13589759, -0.16346087, -0.2029997 , -0.17024751, -0.18644947,\n",
       "        -0.13160157, -0.04249382, -0.18537828, -0.21475726, -0.20218486,\n",
       "        -0.24821966, -0.23254617, -0.18980842, -0.2503503 , -0.2411661 ,\n",
       "        -0.19649073],\n",
       "       [ 0.01590798,  0.0759262 ,  0.10381605,  0.0990227 ,  0.05359287,\n",
       "         0.01005749, -0.00636682, -0.04227201,  0.05216831,  0.01814631,\n",
       "         0.01237411,  0.07479469,  0.02425441,  0.06859349,  0.05630388,\n",
       "         0.03650275, -0.02564051, -0.00368829, -0.04718167, -0.07501802,\n",
       "        -0.01666051, -0.04159233, -0.07855534, -0.04327958, -0.05700715,\n",
       "         0.00026872,  0.09176054, -0.04878147, -0.07585748, -0.06101968,\n",
       "        -0.10482487, -0.08695591, -0.04205531, -0.10046555, -0.08917959,\n",
       "        -0.04243114],\n",
       "       [ 0.05500168,  0.12243185,  0.15670493,  0.15760334,  0.11735924,\n",
       "         0.07861847,  0.06667471,  0.03499069,  0.1334332 ,  0.10322534,\n",
       "         0.10110347,  0.16703002,  0.11986726,  0.16746853,  0.15833688,\n",
       "         0.14159885,  0.08243191,  0.10728066,  0.06661009,  0.04152821,\n",
       "         0.10257657,  0.0802762 ,  0.04588902,  0.08368836,  0.07243517,\n",
       "         0.13213901,  0.22601489,  0.08781535,  0.06304229,  0.08014549,\n",
       "         0.03856991,  0.05863434,  0.1056978 ,  0.0494192 ,  0.06280691,\n",
       "         0.11162844]])"
      ]
     },
     "execution_count": 12,
     "metadata": {},
     "output_type": "execute_result"
    }
   ],
   "source": [
    "diff = dat.to_numpy().T - y_test.to_numpy()\n",
    "diff"
   ]
  },
  {
   "cell_type": "code",
   "execution_count": 13,
   "metadata": {},
   "outputs": [
    {
     "data": {
      "text/plain": [
       "array([0.02652618, 0.02614339, 0.01988932])"
      ]
     },
     "execution_count": 13,
     "metadata": {},
     "output_type": "execute_result"
    }
   ],
   "source": [
    "sign = (diff >= 0).astype(diff.dtype)\n",
    "np.average((((sign * diff).T * alpha) - (((1 - sign) * diff).T * (1 - alpha))), axis=0)\n",
    "# np.mean((((sign * diff).T * alpha).T - ((1-alpha) * ((1-sign) * diff).T))[2])"
   ]
  },
  {
   "cell_type": "code",
   "execution_count": 14,
   "metadata": {},
   "outputs": [],
   "source": [
    "import pandas as pd\n",
    "\n",
    "out_df = pd.DataFrame([[5, 7, 4]], columns=[0.1, 0.2, 0.3])"
   ]
  },
  {
   "cell_type": "code",
   "execution_count": 15,
   "metadata": {},
   "outputs": [
    {
     "name": "stdout",
     "output_type": "stream",
     "text": [
      "0 0.2\n",
      "1 0.3\n"
     ]
    }
   ],
   "source": [
    "for i, j in enumerate([0.2, 0.3]):\n",
    "    print(i, j)"
   ]
  },
  {
   "cell_type": "code",
   "execution_count": 16,
   "metadata": {},
   "outputs": [
    {
     "data": {
      "text/plain": [
       "array([[None, None, None, None, None],\n",
       "       [None, None, None, None, None]], dtype=object)"
      ]
     },
     "execution_count": 16,
     "metadata": {},
     "output_type": "execute_result"
    }
   ],
   "source": [
    "np.full([2, 5], None)"
   ]
  },
  {
   "cell_type": "code",
   "execution_count": 17,
   "metadata": {},
   "outputs": [
    {
     "data": {
      "text/plain": [
       "array([[-0.00463714,  0.        ,  0.        ],\n",
       "       [ 0.        ,  0.        ,  0.        ],\n",
       "       [ 0.        ,  0.        ,  0.        ],\n",
       "       [ 0.        ,  0.        ,  0.        ],\n",
       "       [-0.0020347 ,  0.        ,  0.        ],\n",
       "       [-0.0117007 ,  0.        ,  0.        ],\n",
       "       [-0.01588167, -0.00318341,  0.        ],\n",
       "       [-0.02390694, -0.021136  ,  0.        ],\n",
       "       [-0.00581932,  0.        ,  0.        ],\n",
       "       [-0.01338654,  0.        ,  0.        ],\n",
       "       [-0.01527105,  0.        ,  0.        ],\n",
       "       [-0.00348813,  0.        ,  0.        ],\n",
       "       [-0.01427169,  0.        ,  0.        ],\n",
       "       [-0.00605631,  0.        ,  0.        ],\n",
       "       [-0.00914582,  0.        ,  0.        ],\n",
       "       [-0.01371867,  0.        ,  0.        ],\n",
       "       [-0.02674259, -0.01282026,  0.        ],\n",
       "       [-0.02293145, -0.00184414,  0.        ],\n",
       "       [-0.03219469, -0.02359084,  0.        ],\n",
       "       [-0.03831285, -0.03750901,  0.        ],\n",
       "       [-0.02717952, -0.00833026,  0.        ],\n",
       "       [-0.03269217, -0.02079617,  0.        ],\n",
       "       [-0.04059994, -0.03927767,  0.        ],\n",
       "       [-0.0340495 , -0.02163979,  0.        ],\n",
       "       [-0.03728989, -0.02850358,  0.        ],\n",
       "       [-0.02632031,  0.        ,  0.        ],\n",
       "       [-0.00849876,  0.        ,  0.        ],\n",
       "       [-0.03707566, -0.02439073,  0.        ],\n",
       "       [-0.04295145, -0.03792874,  0.        ],\n",
       "       [-0.04043697, -0.03050984,  0.        ],\n",
       "       [-0.04964393, -0.05241244,  0.        ],\n",
       "       [-0.04650923, -0.04347796,  0.        ],\n",
       "       [-0.03796168, -0.02102766,  0.        ],\n",
       "       [-0.05007006, -0.05023277,  0.        ],\n",
       "       [-0.04823322, -0.0445898 ,  0.        ],\n",
       "       [-0.03929815, -0.02121557,  0.        ]])"
      ]
     },
     "execution_count": 17,
     "metadata": {},
     "output_type": "execute_result"
    }
   ],
   "source": [
    "(1 - alpha) * ((1 - sign) * diff).T"
   ]
  },
  {
   "cell_type": "code",
   "execution_count": 18,
   "metadata": {},
   "outputs": [
    {
     "ename": "ValueError",
     "evalue": "operands could not be broadcast together with shapes (3,) (3,36) ",
     "output_type": "error",
     "traceback": [
      "\u001b[1;31m---------------------------------------------------------------------------\u001b[0m",
      "\u001b[1;31mValueError\u001b[0m                                Traceback (most recent call last)",
      "Input \u001b[1;32mIn [18]\u001b[0m, in \u001b[0;36m<module>\u001b[1;34m\u001b[0m\n\u001b[0;32m      1\u001b[0m \u001b[39m#diff = y_test - y_pred\u001b[39;00m\n\u001b[0;32m      2\u001b[0m sign \u001b[39m=\u001b[39m (diff \u001b[39m>\u001b[39m\u001b[39m=\u001b[39m \u001b[39m0\u001b[39m)\u001b[39m.\u001b[39mastype(diff\u001b[39m.\u001b[39mdtype)\n\u001b[1;32m----> 3\u001b[0m loss \u001b[39m=\u001b[39m alpha \u001b[39m*\u001b[39;49m sign \u001b[39m*\u001b[39m diff \u001b[39m-\u001b[39m (\u001b[39m1\u001b[39m \u001b[39m-\u001b[39m alpha) \u001b[39m*\u001b[39m (\u001b[39m1\u001b[39m \u001b[39m-\u001b[39m sign) \u001b[39m*\u001b[39m diff\n\u001b[0;32m      4\u001b[0m loss\n",
      "\u001b[1;31mValueError\u001b[0m: operands could not be broadcast together with shapes (3,) (3,36) "
     ]
    }
   ],
   "source": [
    "# diff = y_test - y_pred\n",
    "sign = (diff >= 0).astype(diff.dtype)\n",
    "loss = alpha * sign * diff - (1 - alpha) * (1 - sign) * diff\n",
    "loss"
   ]
  },
  {
   "cell_type": "code",
   "execution_count": null,
   "metadata": {},
   "outputs": [],
   "source": [
    "y_true = dat[\"Quantiles\"][0.5]"
   ]
  },
  {
   "cell_type": "code",
   "execution_count": null,
   "metadata": {},
   "outputs": [
    {
     "data": {
      "text/plain": [
       "0.0"
      ]
     },
     "execution_count": 6,
     "metadata": {},
     "output_type": "execute_result"
    }
   ],
   "source": [
    "loss.evaluate(y_true, y_pred)"
   ]
  },
  {
   "cell_type": "code",
   "execution_count": null,
   "metadata": {},
   "outputs": [
    {
     "name": "stderr",
     "output_type": "stream",
     "text": [
      "c:\\users\\e.enticott\\repositories\\sktime\\sktime\\sktime\\forecasting\\base\\_fh.py:100: FutureWarning: pandas.Int64Index is deprecated and will be removed from pandas in a future version. Use pandas.Index with the appropriate dtype instead.\n",
      "  values = pd.Int64Index(values, dtype=int)\n",
      "c:\\users\\e.enticott\\repositories\\sktime\\sktime\\sktime\\utils\\datetime.py:40: FutureWarning: pandas.Int64Index is deprecated and will be removed from pandas in a future version. Use pandas.Index with the appropriate dtype instead.\n",
      "  return pd.Int64Index([d.n / count for d in duration])\n"
     ]
    }
   ],
   "source": [
    "QUANTILE_PRED = f.predict_quantiles(fh=fh, alpha=[0.05, 0.5, 0.95])"
   ]
  },
  {
   "cell_type": "code",
   "execution_count": null,
   "metadata": {},
   "outputs": [
    {
     "data": {
      "text/plain": [
       "0.0"
      ]
     },
     "execution_count": 11,
     "metadata": {},
     "output_type": "execute_result"
    }
   ],
   "source": [
    "loss(y_true, QUANTILE_PRED)"
   ]
  },
  {
   "cell_type": "code",
   "execution_count": null,
   "metadata": {},
   "outputs": [
    {
     "name": "stderr",
     "output_type": "stream",
     "text": [
      "c:\\users\\e.enticott\\repositories\\sktime\\sktime\\sktime\\performance_metrics\\forecasting\\probabilistic\\_classes.py:74: FutureWarning: The default dtype for empty Series will be 'object' instead of 'float64' in a future version. Specify a dtype explicitly to silence this warning.\n",
      "  out_series = pd.Series(index=pd.RangeIndex(0, n))\n",
      "c:\\users\\e.enticott\\repositories\\sktime\\sktime\\sktime\\performance_metrics\\forecasting\\probabilistic\\_classes.py:74: FutureWarning: The default dtype for empty Series will be 'object' instead of 'float64' in a future version. Specify a dtype explicitly to silence this warning.\n",
      "  out_series = pd.Series(index=pd.RangeIndex(0, n))\n"
     ]
    }
   ],
   "source": [
    "loss.evaluate_by_index(y_true, y_pred)\n",
    "assert (a == 0 for a in loss.evaluate_by_index(y_true, y_pred))"
   ]
  },
  {
   "cell_type": "code",
   "execution_count": null,
   "metadata": {},
   "outputs": [
    {
     "data": {
      "text/html": [
       "<div>\n",
       "<style scoped>\n",
       "    .dataframe tbody tr th:only-of-type {\n",
       "        vertical-align: middle;\n",
       "    }\n",
       "\n",
       "    .dataframe tbody tr th {\n",
       "        vertical-align: top;\n",
       "    }\n",
       "\n",
       "    .dataframe thead tr th {\n",
       "        text-align: left;\n",
       "    }\n",
       "</style>\n",
       "<table border=\"1\" class=\"dataframe\">\n",
       "  <thead>\n",
       "    <tr>\n",
       "      <th></th>\n",
       "      <th colspan=\"2\" halign=\"left\">Coverage</th>\n",
       "    </tr>\n",
       "    <tr>\n",
       "      <th></th>\n",
       "      <th colspan=\"2\" halign=\"left\">0.9</th>\n",
       "    </tr>\n",
       "    <tr>\n",
       "      <th></th>\n",
       "      <th>lower</th>\n",
       "      <th>upper</th>\n",
       "    </tr>\n",
       "  </thead>\n",
       "  <tbody>\n",
       "    <tr>\n",
       "      <th>1958-01</th>\n",
       "      <td>5.771386</td>\n",
       "      <td>5.924195</td>\n",
       "    </tr>\n",
       "    <tr>\n",
       "      <th>1958-02</th>\n",
       "      <td>5.750227</td>\n",
       "      <td>5.932007</td>\n",
       "    </tr>\n",
       "    <tr>\n",
       "      <th>1958-03</th>\n",
       "      <td>5.894854</td>\n",
       "      <td>6.101584</td>\n",
       "    </tr>\n",
       "    <tr>\n",
       "      <th>1958-04</th>\n",
       "      <td>5.839605</td>\n",
       "      <td>6.068584</td>\n",
       "    </tr>\n",
       "    <tr>\n",
       "      <th>1958-05</th>\n",
       "      <td>5.826123</td>\n",
       "      <td>6.075371</td>\n",
       "    </tr>\n",
       "    <tr>\n",
       "      <th>1958-06</th>\n",
       "      <td>5.953705</td>\n",
       "      <td>6.221694</td>\n",
       "    </tr>\n",
       "    <tr>\n",
       "      <th>1958-07</th>\n",
       "      <td>6.049360</td>\n",
       "      <td>6.334863</td>\n",
       "    </tr>\n",
       "    <tr>\n",
       "      <th>1958-08</th>\n",
       "      <td>6.033263</td>\n",
       "      <td>6.335266</td>\n",
       "    </tr>\n",
       "    <tr>\n",
       "      <th>1958-09</th>\n",
       "      <td>5.897232</td>\n",
       "      <td>6.214878</td>\n",
       "    </tr>\n",
       "    <tr>\n",
       "      <th>1958-10</th>\n",
       "      <td>5.737973</td>\n",
       "      <td>6.070528</td>\n",
       "    </tr>\n",
       "    <tr>\n",
       "      <th>1958-11</th>\n",
       "      <td>5.578756</td>\n",
       "      <td>5.925579</td>\n",
       "    </tr>\n",
       "    <tr>\n",
       "      <th>1958-12</th>\n",
       "      <td>5.717577</td>\n",
       "      <td>6.078104</td>\n",
       "    </tr>\n",
       "    <tr>\n",
       "      <th>1959-01</th>\n",
       "      <td>5.726268</td>\n",
       "      <td>6.099997</td>\n",
       "    </tr>\n",
       "    <tr>\n",
       "      <th>1959-02</th>\n",
       "      <td>5.713084</td>\n",
       "      <td>6.099564</td>\n",
       "    </tr>\n",
       "    <tr>\n",
       "      <th>1959-03</th>\n",
       "      <td>5.865705</td>\n",
       "      <td>6.264529</td>\n",
       "    </tr>\n",
       "    <tr>\n",
       "      <th>1959-04</th>\n",
       "      <td>5.815041</td>\n",
       "      <td>6.225837</td>\n",
       "    </tr>\n",
       "    <tr>\n",
       "      <th>1959-05</th>\n",
       "      <td>5.805777</td>\n",
       "      <td>6.228208</td>\n",
       "    </tr>\n",
       "    <tr>\n",
       "      <th>1959-06</th>\n",
       "      <td>5.938531</td>\n",
       "      <td>6.372283</td>\n",
       "    </tr>\n",
       "    <tr>\n",
       "      <th>1959-07</th>\n",
       "      <td>6.038524</td>\n",
       "      <td>6.483310</td>\n",
       "    </tr>\n",
       "    <tr>\n",
       "      <th>1959-08</th>\n",
       "      <td>6.025142</td>\n",
       "      <td>6.480695</td>\n",
       "    </tr>\n",
       "    <tr>\n",
       "      <th>1959-09</th>\n",
       "      <td>5.890189</td>\n",
       "      <td>6.356259</td>\n",
       "    </tr>\n",
       "    <tr>\n",
       "      <th>1959-10</th>\n",
       "      <td>5.731497</td>\n",
       "      <td>6.207853</td>\n",
       "    </tr>\n",
       "    <tr>\n",
       "      <th>1959-11</th>\n",
       "      <td>5.572635</td>\n",
       "      <td>6.059060</td>\n",
       "    </tr>\n",
       "    <tr>\n",
       "      <th>1959-12</th>\n",
       "      <td>5.714929</td>\n",
       "      <td>6.211218</td>\n",
       "    </tr>\n",
       "    <tr>\n",
       "      <th>1960-01</th>\n",
       "      <td>5.725494</td>\n",
       "      <td>6.231455</td>\n",
       "    </tr>\n",
       "    <tr>\n",
       "      <th>1960-02</th>\n",
       "      <td>5.713805</td>\n",
       "      <td>6.229256</td>\n",
       "    </tr>\n",
       "    <tr>\n",
       "      <th>1960-03</th>\n",
       "      <td>5.869630</td>\n",
       "      <td>6.394400</td>\n",
       "    </tr>\n",
       "    <tr>\n",
       "      <th>1960-04</th>\n",
       "      <td>5.819820</td>\n",
       "      <td>6.353746</td>\n",
       "    </tr>\n",
       "    <tr>\n",
       "      <th>1960-05</th>\n",
       "      <td>5.811774</td>\n",
       "      <td>6.354702</td>\n",
       "    </tr>\n",
       "    <tr>\n",
       "      <th>1960-06</th>\n",
       "      <td>5.947223</td>\n",
       "      <td>6.499006</td>\n",
       "    </tr>\n",
       "    <tr>\n",
       "      <th>1960-07</th>\n",
       "      <td>6.049473</td>\n",
       "      <td>6.609971</td>\n",
       "    </tr>\n",
       "    <tr>\n",
       "      <th>1960-08</th>\n",
       "      <td>6.037033</td>\n",
       "      <td>6.606113</td>\n",
       "    </tr>\n",
       "    <tr>\n",
       "      <th>1960-09</th>\n",
       "      <td>5.901626</td>\n",
       "      <td>6.479159</td>\n",
       "    </tr>\n",
       "    <tr>\n",
       "      <th>1960-10</th>\n",
       "      <td>5.742167</td>\n",
       "      <td>6.328032</td>\n",
       "    </tr>\n",
       "    <tr>\n",
       "      <th>1960-11</th>\n",
       "      <td>5.582488</td>\n",
       "      <td>6.176568</td>\n",
       "    </tr>\n",
       "    <tr>\n",
       "      <th>1960-12</th>\n",
       "      <td>5.727215</td>\n",
       "      <td>6.329399</td>\n",
       "    </tr>\n",
       "  </tbody>\n",
       "</table>\n",
       "</div>"
      ],
      "text/plain": [
       "         Coverage          \n",
       "              0.9          \n",
       "            lower     upper\n",
       "1958-01  5.771386  5.924195\n",
       "1958-02  5.750227  5.932007\n",
       "1958-03  5.894854  6.101584\n",
       "1958-04  5.839605  6.068584\n",
       "1958-05  5.826123  6.075371\n",
       "1958-06  5.953705  6.221694\n",
       "1958-07  6.049360  6.334863\n",
       "1958-08  6.033263  6.335266\n",
       "1958-09  5.897232  6.214878\n",
       "1958-10  5.737973  6.070528\n",
       "1958-11  5.578756  5.925579\n",
       "1958-12  5.717577  6.078104\n",
       "1959-01  5.726268  6.099997\n",
       "1959-02  5.713084  6.099564\n",
       "1959-03  5.865705  6.264529\n",
       "1959-04  5.815041  6.225837\n",
       "1959-05  5.805777  6.228208\n",
       "1959-06  5.938531  6.372283\n",
       "1959-07  6.038524  6.483310\n",
       "1959-08  6.025142  6.480695\n",
       "1959-09  5.890189  6.356259\n",
       "1959-10  5.731497  6.207853\n",
       "1959-11  5.572635  6.059060\n",
       "1959-12  5.714929  6.211218\n",
       "1960-01  5.725494  6.231455\n",
       "1960-02  5.713805  6.229256\n",
       "1960-03  5.869630  6.394400\n",
       "1960-04  5.819820  6.353746\n",
       "1960-05  5.811774  6.354702\n",
       "1960-06  5.947223  6.499006\n",
       "1960-07  6.049473  6.609971\n",
       "1960-08  6.037033  6.606113\n",
       "1960-09  5.901626  6.479159\n",
       "1960-10  5.742167  6.328032\n",
       "1960-11  5.582488  6.176568\n",
       "1960-12  5.727215  6.329399"
      ]
     },
     "execution_count": 21,
     "metadata": {},
     "output_type": "execute_result"
    }
   ],
   "source": [
    "f.predict_interval(fh)"
   ]
  },
  {
   "cell_type": "code",
   "execution_count": null,
   "metadata": {},
   "outputs": [],
   "source": [
    "test_loss = PinballLoss(alpha=0.5)"
   ]
  }
 ],
 "metadata": {
  "interpreter": {
   "hash": "2a4c1bd0c18409b39182e485d44e43f5e8ac7e8a10c8ff2f588fba96b8a44a80"
  },
  "kernelspec": {
   "display_name": "Python 3.8.12 ('sktime')",
   "language": "python",
   "name": "python3"
  },
  "language_info": {
   "codemirror_mode": {
    "name": "ipython",
    "version": 3
   },
   "file_extension": ".py",
   "mimetype": "text/x-python",
   "name": "python",
   "nbconvert_exporter": "python",
   "pygments_lexer": "ipython3",
   "version": "3.8.12"
  },
  "orig_nbformat": 4
 },
 "nbformat": 4,
 "nbformat_minor": 2
}
