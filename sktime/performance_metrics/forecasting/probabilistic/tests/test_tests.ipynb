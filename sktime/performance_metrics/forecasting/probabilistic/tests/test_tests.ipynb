{
 "cells": [
  {
   "cell_type": "code",
   "execution_count": 2,
   "metadata": {},
   "outputs": [],
   "source": [
    "\"\"\"Tests for probabilistic quantiles.\"\"\"\n",
    "import numpy as np\n",
    "import pandas as pd\n",
    "import pytest\n",
    "\n",
    "from sktime.forecasting.compose import ColumnEnsembleForecaster\n",
    "from sktime.forecasting.model_selection import temporal_train_test_split\n",
    "from sktime.forecasting.theta import ThetaForecaster\n",
    "from sktime.forecasting.naive import NaiveForecaster\n",
    "from sktime.performance_metrics.forecasting.probabilistic import (\n",
    "    ConstraintViolation,\n",
    "    EmpiricalCoverage,\n",
    "    PinballLoss,\n",
    ")\n",
    "from sktime.utils._testing.series import _make_series\n",
    "\n",
    "list_of_metrics = [PinballLoss, EmpiricalCoverage]\n"
   ]
  },
  {
   "cell_type": "code",
   "execution_count": 4,
   "metadata": {},
   "outputs": [
    {
     "name": "stderr",
     "output_type": "stream",
     "text": [
      "c:\\users\\e.enticott\\repositories\\sktime\\sktime\\sktime\\utils\\datetime.py:77: FutureWarning: Timestamp.freqstr is deprecated and will be removed in a future version.\n",
      "  if hasattr(x, \"freqstr\"):\n",
      "c:\\users\\e.enticott\\repositories\\sktime\\sktime\\sktime\\utils\\datetime.py:78: FutureWarning: Timestamp.freqstr is deprecated and will be removed in a future version.\n",
      "  if x.freqstr is None:\n",
      "c:\\users\\e.enticott\\repositories\\sktime\\sktime\\sktime\\utils\\datetime.py:80: FutureWarning: Timestamp.freqstr is deprecated and will be removed in a future version.\n",
      "  elif \"-\" in x.freqstr:\n",
      "c:\\users\\e.enticott\\repositories\\sktime\\sktime\\sktime\\utils\\datetime.py:83: FutureWarning: Timestamp.freqstr is deprecated and will be removed in a future version.\n",
      "  return x.freqstr\n",
      "c:\\users\\e.enticott\\repositories\\sktime\\sktime\\sktime\\forecasting\\base\\_fh.py:565: FutureWarning: Timestamp.freqstr is deprecated and will be removed in a future version.\n",
      "  cutoff = _coerce_to_period(cutoff, freq=cutoff.freqstr)\n"
     ]
    },
    {
     "ename": "ValueError",
     "evalue": "No `fh` has been set yet, please specify `fh` in `fit` or `predict`",
     "output_type": "error",
     "traceback": [
      "\u001b[1;31m---------------------------------------------------------------------------\u001b[0m",
      "\u001b[1;31mValueError\u001b[0m                                Traceback (most recent call last)",
      "\u001b[1;32mc:\\Users\\e.enticott\\Repositories\\sktime\\sktime\\sktime\\performance_metrics\\forecasting\\probabilistic\\tests\\test_tests.ipynb Cell 2'\u001b[0m in \u001b[0;36m<module>\u001b[1;34m\u001b[0m\n\u001b[0;32m     <a href='vscode-notebook-cell:/c%3A/Users/e.enticott/Repositories/sktime/sktime/sktime/performance_metrics/forecasting/probabilistic/tests/test_tests.ipynb#ch0000012?line=11'>12</a>\u001b[0m f \u001b[39m=\u001b[39m ColumnEnsembleForecaster(ThetaForecaster(sp\u001b[39m=\u001b[39m\u001b[39m12\u001b[39m))\n\u001b[0;32m     <a href='vscode-notebook-cell:/c%3A/Users/e.enticott/Repositories/sktime/sktime/sktime/performance_metrics/forecasting/probabilistic/tests/test_tests.ipynb#ch0000012?line=12'>13</a>\u001b[0m f\u001b[39m.\u001b[39mfit(y_train)\n\u001b[1;32m---> <a href='vscode-notebook-cell:/c%3A/Users/e.enticott/Repositories/sktime/sktime/sktime/performance_metrics/forecasting/probabilistic/tests/test_tests.ipynb#ch0000012?line=13'>14</a>\u001b[0m f\u001b[39m.\u001b[39;49mpredict(fh\u001b[39m=\u001b[39;49mfh)\n",
      "File \u001b[1;32mc:\\users\\e.enticott\\repositories\\sktime\\sktime\\sktime\\forecasting\\base\\_base.py:296\u001b[0m, in \u001b[0;36mBaseForecaster.predict\u001b[1;34m(self, fh, X)\u001b[0m\n\u001b[0;32m    <a href='file:///c%3A/users/e.enticott/repositories/sktime/sktime/sktime/forecasting/base/_base.py?line=293'>294</a>\u001b[0m \u001b[39m# we call the ordinary _predict if no looping/vectorization needed\u001b[39;00m\n\u001b[0;32m    <a href='file:///c%3A/users/e.enticott/repositories/sktime/sktime/sktime/forecasting/base/_base.py?line=294'>295</a>\u001b[0m \u001b[39mif\u001b[39;00m \u001b[39mnot\u001b[39;00m \u001b[39mself\u001b[39m\u001b[39m.\u001b[39m_is_vectorized:\n\u001b[1;32m--> <a href='file:///c%3A/users/e.enticott/repositories/sktime/sktime/sktime/forecasting/base/_base.py?line=295'>296</a>\u001b[0m     y_pred \u001b[39m=\u001b[39m \u001b[39mself\u001b[39;49m\u001b[39m.\u001b[39;49m_predict(fh\u001b[39m=\u001b[39;49mfh, X\u001b[39m=\u001b[39;49mX_inner)\n\u001b[0;32m    <a href='file:///c%3A/users/e.enticott/repositories/sktime/sktime/sktime/forecasting/base/_base.py?line=296'>297</a>\u001b[0m \u001b[39melse\u001b[39;00m:\n\u001b[0;32m    <a href='file:///c%3A/users/e.enticott/repositories/sktime/sktime/sktime/forecasting/base/_base.py?line=297'>298</a>\u001b[0m     \u001b[39m# otherwise we call the vectorized version of predict\u001b[39;00m\n\u001b[0;32m    <a href='file:///c%3A/users/e.enticott/repositories/sktime/sktime/sktime/forecasting/base/_base.py?line=298'>299</a>\u001b[0m     y_pred \u001b[39m=\u001b[39m \u001b[39mself\u001b[39m\u001b[39m.\u001b[39m_vectorize(\u001b[39m\"\u001b[39m\u001b[39mpredict\u001b[39m\u001b[39m\"\u001b[39m, X\u001b[39m=\u001b[39mX_inner, fh\u001b[39m=\u001b[39mfh)\n",
      "File \u001b[1;32mc:\\users\\e.enticott\\repositories\\sktime\\sktime\\sktime\\forecasting\\compose\\_column_ensemble.py:199\u001b[0m, in \u001b[0;36mColumnEnsembleForecaster._predict\u001b[1;34m(self, fh, X)\u001b[0m\n\u001b[0;32m    <a href='file:///c%3A/users/e.enticott/repositories/sktime/sktime/sktime/forecasting/compose/_column_ensemble.py?line=173'>174</a>\u001b[0m \u001b[39mdef\u001b[39;00m \u001b[39m_predict\u001b[39m(\u001b[39mself\u001b[39m, fh\u001b[39m=\u001b[39m\u001b[39mNone\u001b[39;00m, X\u001b[39m=\u001b[39m\u001b[39mNone\u001b[39;00m):\n\u001b[0;32m    <a href='file:///c%3A/users/e.enticott/repositories/sktime/sktime/sktime/forecasting/compose/_column_ensemble.py?line=174'>175</a>\u001b[0m     \u001b[39m\"\"\"Forecast time series at future horizon.\u001b[39;00m\n\u001b[0;32m    <a href='file:///c%3A/users/e.enticott/repositories/sktime/sktime/sktime/forecasting/compose/_column_ensemble.py?line=175'>176</a>\u001b[0m \n\u001b[0;32m    <a href='file:///c%3A/users/e.enticott/repositories/sktime/sktime/sktime/forecasting/compose/_column_ensemble.py?line=176'>177</a>\u001b[0m \u001b[39m    private _predict containing the core logic, called from predict\u001b[39;00m\n\u001b[1;32m   (...)\u001b[0m\n\u001b[0;32m    <a href='file:///c%3A/users/e.enticott/repositories/sktime/sktime/sktime/forecasting/compose/_column_ensemble.py?line=196'>197</a>\u001b[0m \u001b[39m        Point predictions\u001b[39;00m\n\u001b[0;32m    <a href='file:///c%3A/users/e.enticott/repositories/sktime/sktime/sktime/forecasting/compose/_column_ensemble.py?line=197'>198</a>\u001b[0m \u001b[39m    \"\"\"\u001b[39;00m\n\u001b[1;32m--> <a href='file:///c%3A/users/e.enticott/repositories/sktime/sktime/sktime/forecasting/compose/_column_ensemble.py?line=198'>199</a>\u001b[0m     \u001b[39mreturn\u001b[39;00m \u001b[39mself\u001b[39;49m\u001b[39m.\u001b[39;49m_by_column(\u001b[39m\"\u001b[39;49m\u001b[39m_predict\u001b[39;49m\u001b[39m\"\u001b[39;49m, fh\u001b[39m=\u001b[39;49mfh, X\u001b[39m=\u001b[39;49mX)\n",
      "File \u001b[1;32mc:\\users\\e.enticott\\repositories\\sktime\\sktime\\sktime\\forecasting\\compose\\_column_ensemble.py:169\u001b[0m, in \u001b[0;36mColumnEnsembleForecaster._by_column\u001b[1;34m(self, methodname, **kwargs)\u001b[0m\n\u001b[0;32m    <a href='file:///c%3A/users/e.enticott/repositories/sktime/sktime/sktime/forecasting/compose/_column_ensemble.py?line=166'>167</a>\u001b[0m keys \u001b[39m=\u001b[39m []\n\u001b[0;32m    <a href='file:///c%3A/users/e.enticott/repositories/sktime/sktime/sktime/forecasting/compose/_column_ensemble.py?line=167'>168</a>\u001b[0m \u001b[39mfor\u001b[39;00m _, forecaster, index \u001b[39min\u001b[39;00m \u001b[39mself\u001b[39m\u001b[39m.\u001b[39mforecasters_:\n\u001b[1;32m--> <a href='file:///c%3A/users/e.enticott/repositories/sktime/sktime/sktime/forecasting/compose/_column_ensemble.py?line=168'>169</a>\u001b[0m     y_preds \u001b[39m+\u001b[39m\u001b[39m=\u001b[39m [\u001b[39mgetattr\u001b[39;49m(forecaster, methodname)(\u001b[39m*\u001b[39;49m\u001b[39m*\u001b[39;49mkwargs)]\n\u001b[0;32m    <a href='file:///c%3A/users/e.enticott/repositories/sktime/sktime/sktime/forecasting/compose/_column_ensemble.py?line=169'>170</a>\u001b[0m     keys \u001b[39m+\u001b[39m\u001b[39m=\u001b[39m [index]\n\u001b[0;32m    <a href='file:///c%3A/users/e.enticott/repositories/sktime/sktime/sktime/forecasting/compose/_column_ensemble.py?line=170'>171</a>\u001b[0m y_pred \u001b[39m=\u001b[39m pd\u001b[39m.\u001b[39mconcat(y_preds, axis\u001b[39m=\u001b[39m\u001b[39m1\u001b[39m, keys\u001b[39m=\u001b[39mkeys)\n",
      "File \u001b[1;32mc:\\users\\e.enticott\\repositories\\sktime\\sktime\\sktime\\forecasting\\theta.py:161\u001b[0m, in \u001b[0;36mThetaForecaster._predict\u001b[1;34m(self, fh, X)\u001b[0m\n\u001b[0;32m    <a href='file:///c%3A/users/e.enticott/repositories/sktime/sktime/sktime/forecasting/theta.py?line=157'>158</a>\u001b[0m y_pred \u001b[39m=\u001b[39m \u001b[39msuper\u001b[39m(ThetaForecaster, \u001b[39mself\u001b[39m)\u001b[39m.\u001b[39m_predict(fh, X)\n\u001b[0;32m    <a href='file:///c%3A/users/e.enticott/repositories/sktime/sktime/sktime/forecasting/theta.py?line=159'>160</a>\u001b[0m \u001b[39m# Add drift.\u001b[39;00m\n\u001b[1;32m--> <a href='file:///c%3A/users/e.enticott/repositories/sktime/sktime/sktime/forecasting/theta.py?line=160'>161</a>\u001b[0m drift \u001b[39m=\u001b[39m \u001b[39mself\u001b[39;49m\u001b[39m.\u001b[39;49m_compute_drift()\n\u001b[0;32m    <a href='file:///c%3A/users/e.enticott/repositories/sktime/sktime/sktime/forecasting/theta.py?line=161'>162</a>\u001b[0m y_pred \u001b[39m+\u001b[39m\u001b[39m=\u001b[39m drift\n\u001b[0;32m    <a href='file:///c%3A/users/e.enticott/repositories/sktime/sktime/sktime/forecasting/theta.py?line=163'>164</a>\u001b[0m \u001b[39mif\u001b[39;00m \u001b[39mself\u001b[39m\u001b[39m.\u001b[39mdeseasonalize:\n",
      "File \u001b[1;32mc:\\users\\e.enticott\\repositories\\sktime\\sktime\\sktime\\forecasting\\theta.py:176\u001b[0m, in \u001b[0;36mThetaForecaster._compute_drift\u001b[1;34m(self)\u001b[0m\n\u001b[0;32m    <a href='file:///c%3A/users/e.enticott/repositories/sktime/sktime/sktime/forecasting/theta.py?line=174'>175</a>\u001b[0m \u001b[39mdef\u001b[39;00m \u001b[39m_compute_drift\u001b[39m(\u001b[39mself\u001b[39m):\n\u001b[1;32m--> <a href='file:///c%3A/users/e.enticott/repositories/sktime/sktime/sktime/forecasting/theta.py?line=175'>176</a>\u001b[0m     fh \u001b[39m=\u001b[39m \u001b[39mself\u001b[39;49m\u001b[39m.\u001b[39;49mfh\u001b[39m.\u001b[39mto_relative(\u001b[39mself\u001b[39m\u001b[39m.\u001b[39mcutoff)\n\u001b[0;32m    <a href='file:///c%3A/users/e.enticott/repositories/sktime/sktime/sktime/forecasting/theta.py?line=176'>177</a>\u001b[0m     \u001b[39mif\u001b[39;00m np\u001b[39m.\u001b[39misclose(\u001b[39mself\u001b[39m\u001b[39m.\u001b[39minitial_level_, \u001b[39m0.0\u001b[39m):\n\u001b[0;32m    <a href='file:///c%3A/users/e.enticott/repositories/sktime/sktime/sktime/forecasting/theta.py?line=177'>178</a>\u001b[0m         \u001b[39m# SES was constant, so revert to simple trend\u001b[39;00m\n\u001b[0;32m    <a href='file:///c%3A/users/e.enticott/repositories/sktime/sktime/sktime/forecasting/theta.py?line=178'>179</a>\u001b[0m         drift \u001b[39m=\u001b[39m \u001b[39mself\u001b[39m\u001b[39m.\u001b[39mtrend_ \u001b[39m*\u001b[39m fh\n",
      "File \u001b[1;32mc:\\users\\e.enticott\\repositories\\sktime\\sktime\\sktime\\forecasting\\base\\_base.py:1408\u001b[0m, in \u001b[0;36mBaseForecaster.fh\u001b[1;34m(self)\u001b[0m\n\u001b[0;32m   <a href='file:///c%3A/users/e.enticott/repositories/sktime/sktime/sktime/forecasting/base/_base.py?line=1405'>1406</a>\u001b[0m \u001b[39m# raise error if some method tries to accessed it before it has been set\u001b[39;00m\n\u001b[0;32m   <a href='file:///c%3A/users/e.enticott/repositories/sktime/sktime/sktime/forecasting/base/_base.py?line=1406'>1407</a>\u001b[0m \u001b[39mif\u001b[39;00m \u001b[39mself\u001b[39m\u001b[39m.\u001b[39m_fh \u001b[39mis\u001b[39;00m \u001b[39mNone\u001b[39;00m:\n\u001b[1;32m-> <a href='file:///c%3A/users/e.enticott/repositories/sktime/sktime/sktime/forecasting/base/_base.py?line=1407'>1408</a>\u001b[0m     \u001b[39mraise\u001b[39;00m \u001b[39mValueError\u001b[39;00m(\n\u001b[0;32m   <a href='file:///c%3A/users/e.enticott/repositories/sktime/sktime/sktime/forecasting/base/_base.py?line=1408'>1409</a>\u001b[0m         \u001b[39m\"\u001b[39m\u001b[39mNo `fh` has been set yet, please specify `fh` \u001b[39m\u001b[39m\"\u001b[39m \u001b[39m\"\u001b[39m\u001b[39min `fit` or `predict`\u001b[39m\u001b[39m\"\u001b[39m\n\u001b[0;32m   <a href='file:///c%3A/users/e.enticott/repositories/sktime/sktime/sktime/forecasting/base/_base.py?line=1409'>1410</a>\u001b[0m     )\n\u001b[0;32m   <a href='file:///c%3A/users/e.enticott/repositories/sktime/sktime/sktime/forecasting/base/_base.py?line=1411'>1412</a>\u001b[0m \u001b[39mreturn\u001b[39;00m \u001b[39mself\u001b[39m\u001b[39m.\u001b[39m_fh\n",
      "\u001b[1;31mValueError\u001b[0m: No `fh` has been set yet, please specify `fh` in `fit` or `predict`"
     ]
    }
   ],
   "source": [
    "import numpy as np\n",
    "\n",
    "from sktime.forecasting.compose import ColumnEnsembleForecaster\n",
    "from sktime.forecasting.model_selection import temporal_train_test_split\n",
    "from sktime.forecasting.theta import ThetaForecaster\n",
    "from sktime.utils._testing.series import _make_series\n",
    "\n",
    "y = _make_series(n_columns=3)\n",
    "y_train, y_test = temporal_train_test_split(y)\n",
    "fh = np.arange(len(y_test)) + 1\n",
    "f = ColumnEnsembleForecaster(ThetaForecaster(sp=12))\n",
    "f.fit(y_train)\n",
    "f.predict(fh=fh)"
   ]
  },
  {
   "cell_type": "code",
   "execution_count": 3,
   "metadata": {},
   "outputs": [
    {
     "data": {
      "text/plain": [
       "ColumnEnsembleForecaster(forecasters=NaiveForecaster(sp=12))"
      ]
     },
     "execution_count": 3,
     "metadata": {},
     "output_type": "execute_result"
    }
   ],
   "source": [
    "y_uni = _make_series(n_columns=1)\n",
    "y_train, y_test = temporal_train_test_split(y_uni)\n",
    "fh = np.arange(len(y_test)) + 1\n",
    "f = ThetaForecaster(sp=12)\n",
    "f.fit(y_train)\n",
    "\n",
    "y_multi = _make_series(n_columns=3)\n",
    "y_train_multi, y_test_multi = temporal_train_test_split(y_multi)\n",
    "fh_multi = np.arange(len(y_test_multi)) + 1\n",
    "f_multi = ColumnEnsembleForecaster(NaiveForecaster(sp=12))\n",
    "f_multi.fit(y_train_multi)"
   ]
  },
  {
   "cell_type": "code",
   "execution_count": 4,
   "metadata": {},
   "outputs": [
    {
     "name": "stdout",
     "output_type": "stream",
     "text": [
      "{'fh': ForecastingHorizon([1, 2, 3, 4, 5, 6, 7, 8, 9, 10, 11, 12, 13], dtype='int64', is_relative=True), 'X': None}\n",
      "{'fh': ForecastingHorizon([1, 2, 3, 4, 5, 6, 7, 8, 9, 10, 11, 12, 13], dtype='int64', is_relative=True), 'X': None}\n",
      "{'fh': ForecastingHorizon([1, 2, 3, 4, 5, 6, 7, 8, 9, 10, 11, 12, 13], dtype='int64', is_relative=True), 'X': None}\n",
      "{'fh': ForecastingHorizon([1, 2, 3, 4, 5, 6, 7, 8, 9, 10, 11, 12, 13], dtype='int64', is_relative=True), 'X': None}\n",
      "{'fh': ForecastingHorizon([1, 2, 3, 4, 5, 6, 7, 8, 9, 10, 11, 12, 13], dtype='int64', is_relative=True), 'X': None}\n",
      "{'fh': ForecastingHorizon([1, 2, 3, 4, 5, 6, 7, 8, 9, 10, 11, 12, 13], dtype='int64', is_relative=True), 'X': None}\n"
     ]
    },
    {
     "name": "stderr",
     "output_type": "stream",
     "text": [
      "c:\\users\\e.enticott\\repositories\\sktime\\sktime\\sktime\\utils\\datetime.py:77: FutureWarning: Timestamp.freqstr is deprecated and will be removed in a future version.\n",
      "  if hasattr(x, \"freqstr\"):\n",
      "c:\\users\\e.enticott\\repositories\\sktime\\sktime\\sktime\\utils\\datetime.py:78: FutureWarning: Timestamp.freqstr is deprecated and will be removed in a future version.\n",
      "  if x.freqstr is None:\n",
      "c:\\users\\e.enticott\\repositories\\sktime\\sktime\\sktime\\utils\\datetime.py:80: FutureWarning: Timestamp.freqstr is deprecated and will be removed in a future version.\n",
      "  elif \"-\" in x.freqstr:\n",
      "c:\\users\\e.enticott\\repositories\\sktime\\sktime\\sktime\\utils\\datetime.py:83: FutureWarning: Timestamp.freqstr is deprecated and will be removed in a future version.\n",
      "  return x.freqstr\n",
      "c:\\users\\e.enticott\\repositories\\sktime\\sktime\\sktime\\forecasting\\base\\_fh.py:565: FutureWarning: Timestamp.freqstr is deprecated and will be removed in a future version.\n",
      "  cutoff = _coerce_to_period(cutoff, freq=cutoff.freqstr)\n",
      "c:\\users\\e.enticott\\repositories\\sktime\\sktime\\sktime\\utils\\datetime.py:105: FutureWarning: Timestamp.freq is deprecated and will be removed in a future version.\n",
      "  if not hasattr(x, \"freq\") or x.freq is None:\n",
      "c:\\users\\e.enticott\\repositories\\sktime\\sktime\\sktime\\utils\\datetime.py:107: FutureWarning: Timestamp.freq is deprecated and will be removed in a future version.\n",
      "  by *= x.freq\n",
      "c:\\users\\e.enticott\\repositories\\sktime\\sktime\\sktime\\forecasting\\base\\_fh.py:565: FutureWarning: Timestamp.freqstr is deprecated and will be removed in a future version.\n",
      "  cutoff = _coerce_to_period(cutoff, freq=cutoff.freqstr)\n",
      "c:\\users\\e.enticott\\repositories\\sktime\\sktime\\sktime\\utils\\datetime.py:105: FutureWarning: Timestamp.freq is deprecated and will be removed in a future version.\n",
      "  if not hasattr(x, \"freq\") or x.freq is None:\n",
      "c:\\users\\e.enticott\\repositories\\sktime\\sktime\\sktime\\utils\\datetime.py:107: FutureWarning: Timestamp.freq is deprecated and will be removed in a future version.\n",
      "  by *= x.freq\n",
      "c:\\users\\e.enticott\\repositories\\sktime\\sktime\\sktime\\forecasting\\base\\_fh.py:565: FutureWarning: Timestamp.freqstr is deprecated and will be removed in a future version.\n",
      "  cutoff = _coerce_to_period(cutoff, freq=cutoff.freqstr)\n",
      "c:\\users\\e.enticott\\repositories\\sktime\\sktime\\sktime\\utils\\datetime.py:105: FutureWarning: Timestamp.freq is deprecated and will be removed in a future version.\n",
      "  if not hasattr(x, \"freq\") or x.freq is None:\n",
      "c:\\users\\e.enticott\\repositories\\sktime\\sktime\\sktime\\utils\\datetime.py:107: FutureWarning: Timestamp.freq is deprecated and will be removed in a future version.\n",
      "  by *= x.freq\n",
      "c:\\users\\e.enticott\\repositories\\sktime\\sktime\\sktime\\forecasting\\base\\_fh.py:565: FutureWarning: Timestamp.freqstr is deprecated and will be removed in a future version.\n",
      "  cutoff = _coerce_to_period(cutoff, freq=cutoff.freqstr)\n"
     ]
    },
    {
     "data": {
      "text/html": [
       "<div>\n",
       "<style scoped>\n",
       "    .dataframe tbody tr th:only-of-type {\n",
       "        vertical-align: middle;\n",
       "    }\n",
       "\n",
       "    .dataframe tbody tr th {\n",
       "        vertical-align: top;\n",
       "    }\n",
       "\n",
       "    .dataframe thead th {\n",
       "        text-align: right;\n",
       "    }\n",
       "</style>\n",
       "<table border=\"1\" class=\"dataframe\">\n",
       "  <thead>\n",
       "    <tr style=\"text-align: right;\">\n",
       "      <th></th>\n",
       "      <th>0</th>\n",
       "      <th>1</th>\n",
       "      <th>2</th>\n",
       "    </tr>\n",
       "  </thead>\n",
       "  <tbody>\n",
       "    <tr>\n",
       "      <th>2000-02-07</th>\n",
       "      <td>5.397085</td>\n",
       "      <td>1.997964</td>\n",
       "      <td>2.993853</td>\n",
       "    </tr>\n",
       "    <tr>\n",
       "      <th>2000-02-08</th>\n",
       "      <td>3.316958</td>\n",
       "      <td>3.049777</td>\n",
       "      <td>1.677459</td>\n",
       "    </tr>\n",
       "    <tr>\n",
       "      <th>2000-02-09</th>\n",
       "      <td>4.884424</td>\n",
       "      <td>2.416545</td>\n",
       "      <td>1.699503</td>\n",
       "    </tr>\n",
       "    <tr>\n",
       "      <th>2000-02-10</th>\n",
       "      <td>4.076821</td>\n",
       "      <td>4.678550</td>\n",
       "      <td>2.988504</td>\n",
       "    </tr>\n",
       "    <tr>\n",
       "      <th>2000-02-11</th>\n",
       "      <td>3.931398</td>\n",
       "      <td>4.034372</td>\n",
       "      <td>2.909846</td>\n",
       "    </tr>\n",
       "    <tr>\n",
       "      <th>2000-02-12</th>\n",
       "      <td>3.749254</td>\n",
       "      <td>2.908009</td>\n",
       "      <td>4.339503</td>\n",
       "    </tr>\n",
       "    <tr>\n",
       "      <th>2000-02-13</th>\n",
       "      <td>2.735875</td>\n",
       "      <td>3.691974</td>\n",
       "      <td>1.000000</td>\n",
       "    </tr>\n",
       "    <tr>\n",
       "      <th>2000-02-14</th>\n",
       "      <td>3.902501</td>\n",
       "      <td>2.414185</td>\n",
       "      <td>4.192414</td>\n",
       "    </tr>\n",
       "    <tr>\n",
       "      <th>2000-02-15</th>\n",
       "      <td>3.953800</td>\n",
       "      <td>4.348584</td>\n",
       "      <td>4.743427</td>\n",
       "    </tr>\n",
       "    <tr>\n",
       "      <th>2000-02-16</th>\n",
       "      <td>4.279212</td>\n",
       "      <td>3.413184</td>\n",
       "      <td>3.269510</td>\n",
       "    </tr>\n",
       "    <tr>\n",
       "      <th>2000-02-17</th>\n",
       "      <td>4.497476</td>\n",
       "      <td>4.686499</td>\n",
       "      <td>4.697076</td>\n",
       "    </tr>\n",
       "    <tr>\n",
       "      <th>2000-02-18</th>\n",
       "      <td>1.397132</td>\n",
       "      <td>4.029351</td>\n",
       "      <td>2.897225</td>\n",
       "    </tr>\n",
       "    <tr>\n",
       "      <th>2000-02-19</th>\n",
       "      <td>5.397085</td>\n",
       "      <td>1.997964</td>\n",
       "      <td>2.993853</td>\n",
       "    </tr>\n",
       "  </tbody>\n",
       "</table>\n",
       "</div>"
      ],
      "text/plain": [
       "                   0         1         2\n",
       "2000-02-07  5.397085  1.997964  2.993853\n",
       "2000-02-08  3.316958  3.049777  1.677459\n",
       "2000-02-09  4.884424  2.416545  1.699503\n",
       "2000-02-10  4.076821  4.678550  2.988504\n",
       "2000-02-11  3.931398  4.034372  2.909846\n",
       "2000-02-12  3.749254  2.908009  4.339503\n",
       "2000-02-13  2.735875  3.691974  1.000000\n",
       "2000-02-14  3.902501  2.414185  4.192414\n",
       "2000-02-15  3.953800  4.348584  4.743427\n",
       "2000-02-16  4.279212  3.413184  3.269510\n",
       "2000-02-17  4.497476  4.686499  4.697076\n",
       "2000-02-18  1.397132  4.029351  2.897225\n",
       "2000-02-19  5.397085  1.997964  2.993853"
      ]
     },
     "execution_count": 4,
     "metadata": {},
     "output_type": "execute_result"
    }
   ],
   "source": [
    "f.predict(fh)\n",
    "f_multi._fh = fh\n",
    "f_multi.predict(fh)"
   ]
  },
  {
   "cell_type": "code",
   "execution_count": 90,
   "metadata": {},
   "outputs": [],
   "source": [
    "import numpy as np\n",
    "import pandas as pd\n",
    "import pytest\n",
    "import warnings\n",
    "warnings.simplefilter(action=\"ignore\", category=FutureWarning)\n",
    "from sktime.datasets import load_airline\n",
    "from sktime.forecasting.model_selection import temporal_train_test_split\n",
    "from sktime.forecasting.theta import ThetaForecaster\n",
    "from sktime.performance_metrics.forecasting.probabilistic import PinballLoss, EmpiricalCoverage, ConstraintViolation\n",
    "\n",
    "list_of_metrics = [PinballLoss]\n",
    "\n",
    "# test data\n",
    "# y = np.log1p(load_airline())\n",
    "y = _make_series(n_columns=1)\n",
    "y_train, y_test = temporal_train_test_split(y)\n",
    "fh = np.arange(len(y_test)) + 1\n",
    "f = ThetaForecaster(sp=12)\n",
    "f.fit(y_train)\n",
    "\n",
    "QUANTILE_PRED = f.predict_quantiles(fh=fh, alpha=[0.5, 0.9])"
   ]
  },
  {
   "cell_type": "code",
   "execution_count": 91,
   "metadata": {},
   "outputs": [
    {
     "data": {
      "text/plain": [
       "2000-02-07    3.196743\n",
       "2000-02-08    3.849136\n",
       "2000-02-09    3.554914\n",
       "2000-02-10    2.374637\n",
       "2000-02-11    2.078452\n",
       "2000-02-12    2.350059\n",
       "2000-02-13    3.845343\n",
       "2000-02-14    2.174672\n",
       "2000-02-15    3.033591\n",
       "2000-02-16    3.100201\n",
       "2000-02-17    3.001909\n",
       "2000-02-18    3.352298\n",
       "2000-02-19    3.210431\n",
       "Freq: D, dtype: float64"
      ]
     },
     "execution_count": 91,
     "metadata": {},
     "output_type": "execute_result"
    }
   ],
   "source": [
    "f.predict(fh)"
   ]
  },
  {
   "cell_type": "code",
   "execution_count": null,
   "metadata": {},
   "outputs": [],
   "source": []
  },
  {
   "cell_type": "code",
   "execution_count": null,
   "metadata": {},
   "outputs": [],
   "source": []
  }
 ],
 "metadata": {
  "interpreter": {
   "hash": "2a4c1bd0c18409b39182e485d44e43f5e8ac7e8a10c8ff2f588fba96b8a44a80"
  },
  "kernelspec": {
   "display_name": "Python 3.8.12 ('sktime')",
   "language": "python",
   "name": "python3"
  },
  "language_info": {
   "codemirror_mode": {
    "name": "ipython",
    "version": 3
   },
   "file_extension": ".py",
   "mimetype": "text/x-python",
   "name": "python",
   "nbconvert_exporter": "python",
   "pygments_lexer": "ipython3",
   "version": "3.8.12"
  },
  "orig_nbformat": 4
 },
 "nbformat": 4,
 "nbformat_minor": 2
}
