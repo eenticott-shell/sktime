{
 "cells": [
  {
   "cell_type": "code",
   "execution_count": 22,
   "metadata": {},
   "outputs": [],
   "source": [
    "import numpy as np\n",
    "import pandas as pd\n",
    "import pytest\n",
    "import warnings\n",
    "warnings.simplefilter(action=\"ignore\", category=FutureWarning)\n",
    "from sktime.datasets import load_airline\n",
    "from sktime.forecasting.model_selection import temporal_train_test_split\n",
    "from sktime.forecasting.theta import ThetaForecaster\n",
    "from sktime.performance_metrics.forecasting.probabilistic import PinballLoss, EmpiricalCoverage, ConstraintViolation\n",
    "\n",
    "list_of_metrics = [PinballLoss]\n",
    "\n",
    "# test data\n",
    "y = np.log1p(load_airline())\n",
    "y_train, y_test = temporal_train_test_split(y)\n",
    "fh = np.arange(len(y_test)) + 1\n",
    "f = ThetaForecaster(sp=12)\n",
    "f.fit(y_train)\n",
    "\n",
    "\n",
    "QUANTILE_PRED = f.predict_quantiles(fh=fh, alpha=[0.5, 0.9])\n",
    "INTERVAL_PRED = f.predict_interval(fh=fh, coverage=[0.9, 0.8])"
   ]
  },
  {
   "cell_type": "code",
   "execution_count": 44,
   "metadata": {},
   "outputs": [],
   "source": [
    "QUANTILE_PRED.columns.set_levels([\"V1\"], level=0, inplace=True)\n",
    "QUANTILE_PRED2 = QUANTILE_PRED.copy()\n",
    "QUANTILE_PRED2.columns.set_levels([\"V2\"], level=0, inplace=True)\n",
    "multi_df = pd.concat([QUANTILE_PRED, QUANTILE_PRED2], axis = 1)"
   ]
  },
  {
   "cell_type": "code",
   "execution_count": 62,
   "metadata": {},
   "outputs": [
    {
     "data": {
      "text/html": [
       "<div>\n",
       "<style scoped>\n",
       "    .dataframe tbody tr th:only-of-type {\n",
       "        vertical-align: middle;\n",
       "    }\n",
       "\n",
       "    .dataframe tbody tr th {\n",
       "        vertical-align: top;\n",
       "    }\n",
       "\n",
       "    .dataframe thead th {\n",
       "        text-align: right;\n",
       "    }\n",
       "</style>\n",
       "<table border=\"1\" class=\"dataframe\">\n",
       "  <thead>\n",
       "    <tr style=\"text-align: right;\">\n",
       "      <th></th>\n",
       "      <th>0.5</th>\n",
       "      <th>0.9</th>\n",
       "    </tr>\n",
       "  </thead>\n",
       "  <tbody>\n",
       "    <tr>\n",
       "      <th>0</th>\n",
       "      <td>0.026143</td>\n",
       "      <td>0.015572</td>\n",
       "    </tr>\n",
       "  </tbody>\n",
       "</table>\n",
       "</div>"
      ],
      "text/plain": [
       "        0.5       0.9\n",
       "0  0.026143  0.015572"
      ]
     },
     "execution_count": 62,
     "metadata": {},
     "output_type": "execute_result"
    }
   ],
   "source": [
    "loss = PinballLoss(multioutput=\"raw_values\", score_average=False)\n",
    "loss(np.column_stack((y_test, y_test)), multi_df)"
   ]
  },
  {
   "cell_type": "code",
   "execution_count": 67,
   "metadata": {},
   "outputs": [],
   "source": [
    "def _handle_multioutput(loss, multioutput):\n",
    "        \"\"\"Specificies how multivariate outputs should be handled.\n",
    "\n",
    "        Parameters\n",
    "        ----------\n",
    "        loss : float, np.ndarray the evaluated metric value.\n",
    "\n",
    "        multioutput : string \"uniform_average\" or \"raw_values\" determines how \\\n",
    "            multioutput results will be treated.\n",
    "        \"\"\"\n",
    "        if isinstance(multioutput, str):\n",
    "            if multioutput == \"raw_values\":\n",
    "                return loss\n",
    "            elif multioutput == \"uniform_average\":\n",
    "                # pass None as weights to np.average: uniform mean\n",
    "                multioutput = None\n",
    "            else:\n",
    "                raise ValueError(\n",
    "                    \"multioutput is expected to be 'raw_values' \"\n",
    "                    \"or 'uniform_average' but we got %r\"\n",
    "                    \" instead.\" % multioutput\n",
    "                )\n",
    "\n",
    "        if loss.ndim > 1:\n",
    "            out = np.average(loss, weights=multioutput, axis=1)\n",
    "        else:\n",
    "            out = np.average(loss, weights=multioutput)\n",
    "        return out\n"
   ]
  },
  {
   "cell_type": "code",
   "execution_count": 99,
   "metadata": {},
   "outputs": [],
   "source": [
    "a_mat = np.repeat((y_pred.columns.get_level_values(1).to_numpy().reshape(1,-1)), repeats = 5, axis = 0)"
   ]
  },
  {
   "cell_type": "code",
   "execution_count": 111,
   "metadata": {},
   "outputs": [],
   "source": [
    "a = (pd.DataFrame(a_mat, columns=y_pred.columns))"
   ]
  },
  {
   "cell_type": "code",
   "execution_count": 142,
   "metadata": {},
   "outputs": [
    {
     "data": {
      "text/html": [
       "<div>\n",
       "<style scoped>\n",
       "    .dataframe tbody tr th:only-of-type {\n",
       "        vertical-align: middle;\n",
       "    }\n",
       "\n",
       "    .dataframe tbody tr th {\n",
       "        vertical-align: top;\n",
       "    }\n",
       "\n",
       "    .dataframe thead th {\n",
       "        text-align: right;\n",
       "    }\n",
       "</style>\n",
       "<table border=\"1\" class=\"dataframe\">\n",
       "  <thead>\n",
       "    <tr style=\"text-align: right;\">\n",
       "      <th></th>\n",
       "      <th>V1</th>\n",
       "      <th>V2</th>\n",
       "    </tr>\n",
       "  </thead>\n",
       "  <tbody>\n",
       "    <tr>\n",
       "      <th>0</th>\n",
       "      <td>0.7</td>\n",
       "      <td>0.7</td>\n",
       "    </tr>\n",
       "    <tr>\n",
       "      <th>1</th>\n",
       "      <td>0.7</td>\n",
       "      <td>0.7</td>\n",
       "    </tr>\n",
       "    <tr>\n",
       "      <th>2</th>\n",
       "      <td>0.7</td>\n",
       "      <td>0.7</td>\n",
       "    </tr>\n",
       "    <tr>\n",
       "      <th>3</th>\n",
       "      <td>0.7</td>\n",
       "      <td>0.7</td>\n",
       "    </tr>\n",
       "    <tr>\n",
       "      <th>4</th>\n",
       "      <td>0.7</td>\n",
       "      <td>0.7</td>\n",
       "    </tr>\n",
       "  </tbody>\n",
       "</table>\n",
       "</div>"
      ],
      "text/plain": [
       "    V1   V2\n",
       "0  0.7  0.7\n",
       "1  0.7  0.7\n",
       "2  0.7  0.7\n",
       "3  0.7  0.7\n",
       "4  0.7  0.7"
      ]
     },
     "execution_count": 142,
     "metadata": {},
     "output_type": "execute_result"
    }
   ],
   "source": [
    "a.mean(axis = 1, level = 0)"
   ]
  },
  {
   "cell_type": "code",
   "execution_count": 147,
   "metadata": {},
   "outputs": [
    {
     "data": {
      "text/plain": [
       "array([[5.83188248, 5.83188248, 5.83188248, 5.83188248],\n",
       "       [5.7651911 , 5.7651911 , 5.7651911 , 5.7651911 ],\n",
       "       [5.89440283, 5.89440283, 5.89440283, 5.89440283],\n",
       "       [5.85507192, 5.85507192, 5.85507192, 5.85507192],\n",
       "       [5.89715387, 5.89715387, 5.89715387, 5.89715387],\n",
       "       [6.07764224, 6.07764224, 6.07764224, 6.07764224],\n",
       "       [6.19847872, 6.19847872, 6.19847872, 6.19847872],\n",
       "       [6.22653667, 6.22653667, 6.22653667, 6.22653667],\n",
       "       [6.00388707, 6.00388707, 6.00388707, 6.00388707],\n",
       "       [5.88610403, 5.88610403, 5.88610403, 5.88610403],\n",
       "       [5.73979291, 5.73979291, 5.73979291, 5.73979291],\n",
       "       [5.8230459 , 5.8230459 , 5.8230459 , 5.8230459 ],\n",
       "       [5.88887796, 5.88887796, 5.88887796, 5.88887796],\n",
       "       [5.83773045, 5.83773045, 5.83773045, 5.83773045],\n",
       "       [6.00881319, 6.00881319, 6.00881319, 6.00881319],\n",
       "       [5.98393628, 5.98393628, 5.98393628, 5.98393628],\n",
       "       [6.04263283, 6.04263283, 6.04263283, 6.04263283],\n",
       "       [6.15909539, 6.15909539, 6.15909539, 6.15909539],\n",
       "       [6.30809844, 6.30809844, 6.30809844, 6.30809844],\n",
       "       [6.32793678, 6.32793678, 6.32793678, 6.32793678],\n",
       "       [6.13988455, 6.13988455, 6.13988455, 6.13988455],\n",
       "       [6.01126717, 6.01126717, 6.01126717, 6.01126717],\n",
       "       [5.89440283, 5.89440283, 5.89440283, 5.89440283],\n",
       "       [6.00635316, 6.00635316, 6.00635316, 6.00635316],\n",
       "       [6.03548143, 6.03548143, 6.03548143, 6.03548143],\n",
       "       [5.97126184, 5.97126184, 5.97126184, 5.97126184],\n",
       "       [6.04025471, 6.04025471, 6.04025471, 6.04025471],\n",
       "       [6.13556489, 6.13556489, 6.13556489, 6.13556489],\n",
       "       [6.15909539, 6.15909539, 6.15909539, 6.15909539],\n",
       "       [6.28413416, 6.28413416, 6.28413416, 6.28413416],\n",
       "       [6.43454652, 6.43454652, 6.43454652, 6.43454652],\n",
       "       [6.40852879, 6.40852879, 6.40852879, 6.40852879],\n",
       "       [6.23244802, 6.23244802, 6.23244802, 6.23244802],\n",
       "       [6.13556489, 6.13556489, 6.13556489, 6.13556489],\n",
       "       [5.96870756, 5.96870756, 5.96870756, 5.96870756],\n",
       "       [6.07073773, 6.07073773, 6.07073773, 6.07073773]])"
      ]
     },
     "execution_count": 147,
     "metadata": {},
     "output_type": "execute_result"
    }
   ],
   "source": [
    "np.repeat(y_true, 2, axis = 1)"
   ]
  },
  {
   "cell_type": "code",
   "execution_count": 154,
   "metadata": {},
   "outputs": [
    {
     "data": {
      "text/plain": [
       "0.02085756704835874"
      ]
     },
     "execution_count": 154,
     "metadata": {},
     "output_type": "execute_result"
    }
   ],
   "source": [
    "y_true = np.column_stack((y_test, y_test))\n",
    "y_pred = multi_df\n",
    "alphas = [0.5, 0.9]\n",
    "multioutput = \"raw_values\"\n",
    "alpha_mat = np.repeat(\n",
    "    y_pred.columns.get_level_values(1).to_numpy().reshape(1,-1),\n",
    "    repeats = y_pred.shape[0],\n",
    "    axis = 0\n",
    "    )\n",
    "\n",
    "diff = np.repeat(y_true, 2, axis = 1) - y_pred.to_numpy()\n",
    "sign = (diff >= 0).astype(diff.dtype)\n",
    "loss = alpha_mat * sign * diff - (1 - alpha_mat) * (1 - sign) * diff\n",
    "\n",
    "out_df = pd.DataFrame(loss, columns=y_pred.columns)\n",
    "out_df.mean(axis=1).mean()"
   ]
  },
  {
   "cell_type": "code",
   "execution_count": 58,
   "metadata": {},
   "outputs": [
    {
     "data": {
      "text/plain": [
       "0.020857567048358745"
      ]
     },
     "execution_count": 58,
     "metadata": {},
     "output_type": "execute_result"
    }
   ],
   "source": [
    "loss(y_test, QUANTILE_PRED)"
   ]
  },
  {
   "cell_type": "code",
   "execution_count": 8,
   "metadata": {},
   "outputs": [
    {
     "data": {
      "text/html": [
       "<div>\n",
       "<style scoped>\n",
       "    .dataframe tbody tr th:only-of-type {\n",
       "        vertical-align: middle;\n",
       "    }\n",
       "\n",
       "    .dataframe tbody tr th {\n",
       "        vertical-align: top;\n",
       "    }\n",
       "\n",
       "    .dataframe thead tr th {\n",
       "        text-align: left;\n",
       "    }\n",
       "</style>\n",
       "<table border=\"1\" class=\"dataframe\">\n",
       "  <thead>\n",
       "    <tr>\n",
       "      <th></th>\n",
       "      <th colspan=\"2\" halign=\"left\">Quantiles</th>\n",
       "    </tr>\n",
       "    <tr>\n",
       "      <th></th>\n",
       "      <th>0.5</th>\n",
       "      <th>0.9</th>\n",
       "    </tr>\n",
       "  </thead>\n",
       "  <tbody>\n",
       "    <tr>\n",
       "      <th>1958-01</th>\n",
       "      <td>5.847790</td>\n",
       "      <td>5.907319</td>\n",
       "    </tr>\n",
       "    <tr>\n",
       "      <th>1958-02</th>\n",
       "      <td>5.841117</td>\n",
       "      <td>5.911932</td>\n",
       "    </tr>\n",
       "    <tr>\n",
       "      <th>1958-03</th>\n",
       "      <td>5.998219</td>\n",
       "      <td>6.078754</td>\n",
       "    </tr>\n",
       "    <tr>\n",
       "      <th>1958-04</th>\n",
       "      <td>5.954095</td>\n",
       "      <td>6.043296</td>\n",
       "    </tr>\n",
       "    <tr>\n",
       "      <th>1958-05</th>\n",
       "      <td>5.950747</td>\n",
       "      <td>6.047845</td>\n",
       "    </tr>\n",
       "    <tr>\n",
       "      <th>1958-06</th>\n",
       "      <td>6.087700</td>\n",
       "      <td>6.192099</td>\n",
       "    </tr>\n",
       "    <tr>\n",
       "      <th>1958-07</th>\n",
       "      <td>6.192112</td>\n",
       "      <td>6.303334</td>\n",
       "    </tr>\n",
       "    <tr>\n",
       "      <th>1958-08</th>\n",
       "      <td>6.184265</td>\n",
       "      <td>6.301914</td>\n",
       "    </tr>\n",
       "    <tr>\n",
       "      <th>1958-09</th>\n",
       "      <td>6.056055</td>\n",
       "      <td>6.179799</td>\n",
       "    </tr>\n",
       "    <tr>\n",
       "      <th>1958-10</th>\n",
       "      <td>5.904250</td>\n",
       "      <td>6.033802</td>\n",
       "    </tr>\n",
       "    <tr>\n",
       "      <th>1958-11</th>\n",
       "      <td>5.752167</td>\n",
       "      <td>5.887277</td>\n",
       "    </tr>\n",
       "    <tr>\n",
       "      <th>1958-12</th>\n",
       "      <td>5.897841</td>\n",
       "      <td>6.038289</td>\n",
       "    </tr>\n",
       "    <tr>\n",
       "      <th>1959-01</th>\n",
       "      <td>5.913132</td>\n",
       "      <td>6.058724</td>\n",
       "    </tr>\n",
       "    <tr>\n",
       "      <th>1959-02</th>\n",
       "      <td>5.906324</td>\n",
       "      <td>6.056883</td>\n",
       "    </tr>\n",
       "    <tr>\n",
       "      <th>1959-03</th>\n",
       "      <td>6.065117</td>\n",
       "      <td>6.220485</td>\n",
       "    </tr>\n",
       "    <tr>\n",
       "      <th>1959-04</th>\n",
       "      <td>6.020439</td>\n",
       "      <td>6.180471</td>\n",
       "    </tr>\n",
       "    <tr>\n",
       "      <th>1959-05</th>\n",
       "      <td>6.016992</td>\n",
       "      <td>6.181556</td>\n",
       "    </tr>\n",
       "    <tr>\n",
       "      <th>1959-06</th>\n",
       "      <td>6.155407</td>\n",
       "      <td>6.324381</td>\n",
       "    </tr>\n",
       "    <tr>\n",
       "      <th>1959-07</th>\n",
       "      <td>6.260917</td>\n",
       "      <td>6.434190</td>\n",
       "    </tr>\n",
       "    <tr>\n",
       "      <th>1959-08</th>\n",
       "      <td>6.252919</td>\n",
       "      <td>6.430386</td>\n",
       "    </tr>\n",
       "    <tr>\n",
       "      <th>1959-09</th>\n",
       "      <td>6.123224</td>\n",
       "      <td>6.304788</td>\n",
       "    </tr>\n",
       "    <tr>\n",
       "      <th>1959-10</th>\n",
       "      <td>5.969675</td>\n",
       "      <td>6.155246</td>\n",
       "    </tr>\n",
       "    <tr>\n",
       "      <th>1959-11</th>\n",
       "      <td>5.815847</td>\n",
       "      <td>6.005341</td>\n",
       "    </tr>\n",
       "    <tr>\n",
       "      <th>1959-12</th>\n",
       "      <td>5.963074</td>\n",
       "      <td>6.156410</td>\n",
       "    </tr>\n",
       "    <tr>\n",
       "      <th>1960-01</th>\n",
       "      <td>5.978474</td>\n",
       "      <td>6.175578</td>\n",
       "    </tr>\n",
       "    <tr>\n",
       "      <th>1960-02</th>\n",
       "      <td>5.971531</td>\n",
       "      <td>6.172332</td>\n",
       "    </tr>\n",
       "    <tr>\n",
       "      <th>1960-03</th>\n",
       "      <td>6.132015</td>\n",
       "      <td>6.336447</td>\n",
       "    </tr>\n",
       "    <tr>\n",
       "      <th>1960-04</th>\n",
       "      <td>6.086783</td>\n",
       "      <td>6.294782</td>\n",
       "    </tr>\n",
       "    <tr>\n",
       "      <th>1960-05</th>\n",
       "      <td>6.083238</td>\n",
       "      <td>6.294743</td>\n",
       "    </tr>\n",
       "    <tr>\n",
       "      <th>1960-06</th>\n",
       "      <td>6.223114</td>\n",
       "      <td>6.438069</td>\n",
       "    </tr>\n",
       "    <tr>\n",
       "      <th>1960-07</th>\n",
       "      <td>6.329722</td>\n",
       "      <td>6.548071</td>\n",
       "    </tr>\n",
       "    <tr>\n",
       "      <th>1960-08</th>\n",
       "      <td>6.321573</td>\n",
       "      <td>6.543266</td>\n",
       "    </tr>\n",
       "    <tr>\n",
       "      <th>1960-09</th>\n",
       "      <td>6.190393</td>\n",
       "      <td>6.415379</td>\n",
       "    </tr>\n",
       "    <tr>\n",
       "      <th>1960-10</th>\n",
       "      <td>6.035099</td>\n",
       "      <td>6.263332</td>\n",
       "    </tr>\n",
       "    <tr>\n",
       "      <th>1960-11</th>\n",
       "      <td>5.879528</td>\n",
       "      <td>6.110961</td>\n",
       "    </tr>\n",
       "    <tr>\n",
       "      <th>1960-12</th>\n",
       "      <td>6.028307</td>\n",
       "      <td>6.262896</td>\n",
       "    </tr>\n",
       "  </tbody>\n",
       "</table>\n",
       "</div>"
      ],
      "text/plain": [
       "        Quantiles          \n",
       "              0.5       0.9\n",
       "1958-01  5.847790  5.907319\n",
       "1958-02  5.841117  5.911932\n",
       "1958-03  5.998219  6.078754\n",
       "1958-04  5.954095  6.043296\n",
       "1958-05  5.950747  6.047845\n",
       "1958-06  6.087700  6.192099\n",
       "1958-07  6.192112  6.303334\n",
       "1958-08  6.184265  6.301914\n",
       "1958-09  6.056055  6.179799\n",
       "1958-10  5.904250  6.033802\n",
       "1958-11  5.752167  5.887277\n",
       "1958-12  5.897841  6.038289\n",
       "1959-01  5.913132  6.058724\n",
       "1959-02  5.906324  6.056883\n",
       "1959-03  6.065117  6.220485\n",
       "1959-04  6.020439  6.180471\n",
       "1959-05  6.016992  6.181556\n",
       "1959-06  6.155407  6.324381\n",
       "1959-07  6.260917  6.434190\n",
       "1959-08  6.252919  6.430386\n",
       "1959-09  6.123224  6.304788\n",
       "1959-10  5.969675  6.155246\n",
       "1959-11  5.815847  6.005341\n",
       "1959-12  5.963074  6.156410\n",
       "1960-01  5.978474  6.175578\n",
       "1960-02  5.971531  6.172332\n",
       "1960-03  6.132015  6.336447\n",
       "1960-04  6.086783  6.294782\n",
       "1960-05  6.083238  6.294743\n",
       "1960-06  6.223114  6.438069\n",
       "1960-07  6.329722  6.548071\n",
       "1960-08  6.321573  6.543266\n",
       "1960-09  6.190393  6.415379\n",
       "1960-10  6.035099  6.263332\n",
       "1960-11  5.879528  6.110961\n",
       "1960-12  6.028307  6.262896"
      ]
     },
     "execution_count": 8,
     "metadata": {},
     "output_type": "execute_result"
    }
   ],
   "source": [
    "QUANTILE_PRED"
   ]
  },
  {
   "cell_type": "code",
   "execution_count": 2,
   "metadata": {},
   "outputs": [],
   "source": [
    "loss = PinballLoss()\n"
   ]
  },
  {
   "cell_type": "code",
   "execution_count": 3,
   "metadata": {},
   "outputs": [
    {
     "data": {
      "text/plain": [
       "0.020857567048358745"
      ]
     },
     "execution_count": 3,
     "metadata": {},
     "output_type": "execute_result"
    }
   ],
   "source": [
    "loss(y_test, QUANTILE_PRED)"
   ]
  },
  {
   "cell_type": "code",
   "execution_count": 11,
   "metadata": {},
   "outputs": [
    {
     "data": {
      "text/html": [
       "<div>\n",
       "<style scoped>\n",
       "    .dataframe tbody tr th:only-of-type {\n",
       "        vertical-align: middle;\n",
       "    }\n",
       "\n",
       "    .dataframe tbody tr th {\n",
       "        vertical-align: top;\n",
       "    }\n",
       "\n",
       "    .dataframe thead th {\n",
       "        text-align: right;\n",
       "    }\n",
       "</style>\n",
       "<table border=\"1\" class=\"dataframe\">\n",
       "  <thead>\n",
       "    <tr style=\"text-align: right;\">\n",
       "      <th></th>\n",
       "      <th>0.5</th>\n",
       "    </tr>\n",
       "  </thead>\n",
       "  <tbody>\n",
       "    <tr>\n",
       "      <th>0</th>\n",
       "      <td>0.026143</td>\n",
       "    </tr>\n",
       "  </tbody>\n",
       "</table>\n",
       "</div>"
      ],
      "text/plain": [
       "        0.5\n",
       "0  0.026143"
      ]
     },
     "execution_count": 11,
     "metadata": {},
     "output_type": "execute_result"
    }
   ],
   "source": [
    "loss.evaluate(y_true = y_test, y_pred = QUANTILE_PRED)"
   ]
  },
  {
   "cell_type": "code",
   "execution_count": 1,
   "metadata": {},
   "outputs": [
    {
     "name": "stderr",
     "output_type": "stream",
     "text": [
      "c:\\users\\e.enticott\\repositories\\sktime\\sktime\\sktime\\datatypes\\_series\\_check.py:43: FutureWarning: pandas.Int64Index is deprecated and will be removed from pandas in a future version. Use pandas.Index with the appropriate dtype instead.\n",
      "  VALID_INDEX_TYPES = (pd.Int64Index, pd.RangeIndex, pd.PeriodIndex, pd.DatetimeIndex)\n",
      "c:\\users\\e.enticott\\repositories\\sktime\\sktime\\sktime\\datatypes\\_hierarchical\\_check.py:50: FutureWarning: pandas.Int64Index is deprecated and will be removed from pandas in a future version. Use pandas.Index with the appropriate dtype instead.\n",
      "  VALID_INDEX_TYPES = (pd.Int64Index, pd.RangeIndex, pd.PeriodIndex, pd.DatetimeIndex)\n",
      "c:\\users\\e.enticott\\repositories\\sktime\\sktime\\sktime\\datatypes\\_hierarchical\\_check.py:51: FutureWarning: pandas.Int64Index is deprecated and will be removed from pandas in a future version. Use pandas.Index with the appropriate dtype instead.\n",
      "  VALID_MULTIINDEX_TYPES = (pd.Int64Index, pd.RangeIndex)\n",
      "c:\\users\\e.enticott\\repositories\\sktime\\sktime\\sktime\\datatypes\\_panel\\_check.py:48: FutureWarning: pandas.Int64Index is deprecated and will be removed from pandas in a future version. Use pandas.Index with the appropriate dtype instead.\n",
      "  VALID_INDEX_TYPES = (pd.Int64Index, pd.RangeIndex, pd.PeriodIndex, pd.DatetimeIndex)\n",
      "c:\\users\\e.enticott\\repositories\\sktime\\sktime\\sktime\\datatypes\\_panel\\_check.py:49: FutureWarning: pandas.Int64Index is deprecated and will be removed from pandas in a future version. Use pandas.Index with the appropriate dtype instead.\n",
      "  VALID_MULTIINDEX_TYPES = (pd.Int64Index, pd.RangeIndex, pd.Index)\n",
      "c:\\users\\e.enticott\\repositories\\sktime\\sktime\\sktime\\datatypes\\_proba\\_check.py:43: FutureWarning: pandas.Int64Index is deprecated and will be removed from pandas in a future version. Use pandas.Index with the appropriate dtype instead.\n",
      "  VALID_INDEX_TYPES = (pd.Int64Index, pd.RangeIndex, pd.PeriodIndex, pd.DatetimeIndex)\n",
      "c:\\users\\e.enticott\\repositories\\sktime\\sktime\\sktime\\utils\\validation\\series.py:22: FutureWarning: pandas.Int64Index is deprecated and will be removed from pandas in a future version. Use pandas.Index with the appropriate dtype instead.\n",
      "  pd.Int64Index,\n",
      "c:\\users\\e.enticott\\repositories\\sktime\\sktime\\sktime\\forecasting\\base\\_fh.py:25: FutureWarning: pandas.Int64Index is deprecated and will be removed from pandas in a future version. Use pandas.Index with the appropriate dtype instead.\n",
      "  RELATIVE_TYPES = (pd.Int64Index, pd.RangeIndex, pd.TimedeltaIndex)\n",
      "c:\\users\\e.enticott\\repositories\\sktime\\sktime\\sktime\\forecasting\\base\\_fh.py:26: FutureWarning: pandas.Int64Index is deprecated and will be removed from pandas in a future version. Use pandas.Index with the appropriate dtype instead.\n",
      "  ABSOLUTE_TYPES = (pd.Int64Index, pd.RangeIndex, pd.DatetimeIndex, pd.PeriodIndex)\n",
      "c:\\users\\e.enticott\\repositories\\sktime\\sktime\\sktime\\forecasting\\base\\adapters\\_statsmodels.py:50: FutureWarning: pandas.Int64Index is deprecated and will be removed from pandas in a future version. Use pandas.Index with the appropriate dtype instead.\n",
      "  if isinstance(y, pd.Series) and type(y.index) == pd.Int64Index:\n"
     ]
    },
    {
     "data": {
      "text/plain": [
       "ColumnEnsembleForecaster(forecasters=ThetaForecaster(sp=12))"
      ]
     },
     "execution_count": 1,
     "metadata": {},
     "output_type": "execute_result"
    }
   ],
   "source": [
    "# -*- coding: utf-8 -*-\n",
    "\"\"\"Tests for probabilistic quantiles.\"\"\"\n",
    "import numpy as np\n",
    "import pandas as pd\n",
    "import pytest\n",
    "\n",
    "from sktime.datasets import load_airline\n",
    "from sktime.utils._testing.series import _make_series\n",
    "from sktime.forecasting.model_selection import temporal_train_test_split\n",
    "from sktime.forecasting.theta import ThetaForecaster\n",
    "from sktime.forecasting.compose import ColumnEnsembleForecaster\n",
    "from sktime.performance_metrics.forecasting.probabilistic import PinballLoss, EmpiricalCoverage, ConstraintViolation\n",
    "\n",
    "list_of_metrics = [PinballLoss, EmpiricalCoverage]\n",
    "\n",
    "# test data\n",
    "#y = np.log1p(load_airline())\n",
    "y = _make_series(n_columns=1)\n",
    "y_train, y_test = temporal_train_test_split(y)\n",
    "fh = np.arange(len(y_test)) + 1\n",
    "f = ColumnEnsembleForecaster(ThetaForecaster(sp=12))\n",
    "f.fit(y_train)"
   ]
  },
  {
   "cell_type": "code",
   "execution_count": 2,
   "metadata": {},
   "outputs": [
    {
     "ename": "NotImplementedError",
     "evalue": "ColumnEnsembleForecaster does not have the capability to return quantile predictions. If you think this estimator should have the capability, please open an issue on sktime.",
     "output_type": "error",
     "traceback": [
      "\u001b[1;31m---------------------------------------------------------------------------\u001b[0m",
      "\u001b[1;31mNotImplementedError\u001b[0m                       Traceback (most recent call last)",
      "\u001b[1;32mc:\\Users\\e.enticott\\Repositories\\sktime\\sktime\\sktime\\performance_metrics\\forecasting\\probabilistic\\tests\\test_interval.ipynb Cell 7'\u001b[0m in \u001b[0;36m<module>\u001b[1;34m\u001b[0m\n\u001b[1;32m----> <a href='vscode-notebook-cell:/c%3A/Users/e.enticott/Repositories/sktime/sktime/sktime/performance_metrics/forecasting/probabilistic/tests/test_interval.ipynb#ch0000006?line=0'>1</a>\u001b[0m f\u001b[39m.\u001b[39;49mpredict_quantiles(fh)\n",
      "File \u001b[1;32mc:\\users\\e.enticott\\repositories\\sktime\\sktime\\sktime\\forecasting\\base\\_base.py:364\u001b[0m, in \u001b[0;36mBaseForecaster.predict_quantiles\u001b[1;34m(self, fh, X, alpha)\u001b[0m\n\u001b[0;32m    <a href='file:///c%3A/users/e.enticott/repositories/sktime/sktime/sktime/forecasting/base/_base.py?line=326'>327</a>\u001b[0m \u001b[39m\"\"\"Compute/return quantile forecasts.\u001b[39;00m\n\u001b[0;32m    <a href='file:///c%3A/users/e.enticott/repositories/sktime/sktime/sktime/forecasting/base/_base.py?line=327'>328</a>\u001b[0m \n\u001b[0;32m    <a href='file:///c%3A/users/e.enticott/repositories/sktime/sktime/sktime/forecasting/base/_base.py?line=328'>329</a>\u001b[0m \u001b[39mIf alpha is iterable, multiple quantiles will be calculated.\u001b[39;00m\n\u001b[1;32m   (...)\u001b[0m\n\u001b[0;32m    <a href='file:///c%3A/users/e.enticott/repositories/sktime/sktime/sktime/forecasting/base/_base.py?line=360'>361</a>\u001b[0m \u001b[39m        at quantile probability in second col index, for the row index.\u001b[39;00m\n\u001b[0;32m    <a href='file:///c%3A/users/e.enticott/repositories/sktime/sktime/sktime/forecasting/base/_base.py?line=361'>362</a>\u001b[0m \u001b[39m\"\"\"\u001b[39;00m\n\u001b[0;32m    <a href='file:///c%3A/users/e.enticott/repositories/sktime/sktime/sktime/forecasting/base/_base.py?line=362'>363</a>\u001b[0m \u001b[39mif\u001b[39;00m \u001b[39mnot\u001b[39;00m \u001b[39mself\u001b[39m\u001b[39m.\u001b[39mget_tag(\u001b[39m\"\u001b[39m\u001b[39mcapability:pred_int\u001b[39m\u001b[39m\"\u001b[39m):\n\u001b[1;32m--> <a href='file:///c%3A/users/e.enticott/repositories/sktime/sktime/sktime/forecasting/base/_base.py?line=363'>364</a>\u001b[0m     \u001b[39mraise\u001b[39;00m \u001b[39mNotImplementedError\u001b[39;00m(\n\u001b[0;32m    <a href='file:///c%3A/users/e.enticott/repositories/sktime/sktime/sktime/forecasting/base/_base.py?line=364'>365</a>\u001b[0m         \u001b[39mf\u001b[39m\u001b[39m\"\u001b[39m\u001b[39m{\u001b[39;00m\u001b[39mself\u001b[39m\u001b[39m.\u001b[39m\u001b[39m__class__\u001b[39m\u001b[39m.\u001b[39m\u001b[39m__name__\u001b[39m\u001b[39m}\u001b[39;00m\u001b[39m does not have the capability to return \u001b[39m\u001b[39m\"\u001b[39m\n\u001b[0;32m    <a href='file:///c%3A/users/e.enticott/repositories/sktime/sktime/sktime/forecasting/base/_base.py?line=365'>366</a>\u001b[0m         \u001b[39m\"\u001b[39m\u001b[39mquantile predictions. If you \u001b[39m\u001b[39m\"\u001b[39m\n\u001b[0;32m    <a href='file:///c%3A/users/e.enticott/repositories/sktime/sktime/sktime/forecasting/base/_base.py?line=366'>367</a>\u001b[0m         \u001b[39m\"\u001b[39m\u001b[39mthink this estimator should have the capability, please open \u001b[39m\u001b[39m\"\u001b[39m\n\u001b[0;32m    <a href='file:///c%3A/users/e.enticott/repositories/sktime/sktime/sktime/forecasting/base/_base.py?line=367'>368</a>\u001b[0m         \u001b[39m\"\u001b[39m\u001b[39man issue on sktime.\u001b[39m\u001b[39m\"\u001b[39m\n\u001b[0;32m    <a href='file:///c%3A/users/e.enticott/repositories/sktime/sktime/sktime/forecasting/base/_base.py?line=368'>369</a>\u001b[0m     )\n\u001b[0;32m    <a href='file:///c%3A/users/e.enticott/repositories/sktime/sktime/sktime/forecasting/base/_base.py?line=369'>370</a>\u001b[0m \u001b[39mself\u001b[39m\u001b[39m.\u001b[39mcheck_is_fitted()\n\u001b[0;32m    <a href='file:///c%3A/users/e.enticott/repositories/sktime/sktime/sktime/forecasting/base/_base.py?line=371'>372</a>\u001b[0m \u001b[39m# input checks and conversions\u001b[39;00m\n\u001b[0;32m    <a href='file:///c%3A/users/e.enticott/repositories/sktime/sktime/sktime/forecasting/base/_base.py?line=372'>373</a>\u001b[0m \n\u001b[0;32m    <a href='file:///c%3A/users/e.enticott/repositories/sktime/sktime/sktime/forecasting/base/_base.py?line=373'>374</a>\u001b[0m \u001b[39m# check fh and coerce to ForecastingHorizon\u001b[39;00m\n",
      "\u001b[1;31mNotImplementedError\u001b[0m: ColumnEnsembleForecaster does not have the capability to return quantile predictions. If you think this estimator should have the capability, please open an issue on sktime."
     ]
    }
   ],
   "source": [
    "f.predict_quantiles(fh)"
   ]
  }
 ],
 "metadata": {
  "interpreter": {
   "hash": "2a4c1bd0c18409b39182e485d44e43f5e8ac7e8a10c8ff2f588fba96b8a44a80"
  },
  "kernelspec": {
   "display_name": "Python 3.8.12 ('sktime')",
   "language": "python",
   "name": "python3"
  },
  "language_info": {
   "codemirror_mode": {
    "name": "ipython",
    "version": 3
   },
   "file_extension": ".py",
   "mimetype": "text/x-python",
   "name": "python",
   "nbconvert_exporter": "python",
   "pygments_lexer": "ipython3",
   "version": "3.8.12"
  },
  "orig_nbformat": 4
 },
 "nbformat": 4,
 "nbformat_minor": 2
}
